{
 "cells": [
  {
   "cell_type": "markdown",
   "metadata": {},
   "source": [
    "# **Mesh processing and XML files construction**\n",
    "\n",
    "This tutorial allows processing multiple meshes prior to the *Atlas construction* tutorial, and it creates the XML parameter files needed during the atlas construction processing, as per [deformetrica](www.deformetrica.org)'s instructions. It uses the data included in the subdirectory **data/atlasing/**, and it will output the XML file to that same directory.\n"
   ]
  },
  {
   "cell_type": "markdown",
   "metadata": {},
   "source": [
    "# Mesh decimation and conversion\n",
    "\n",
    "### **Mesh decimation and cleaning**"
   ]
  },
  {
   "cell_type": "markdown",
   "metadata": {},
   "source": [
    "This section allows the user to batch decimate meshes in **Meshlab** (https://www.meshlab.net/) with particular parameters. Here we are using a decimation percentage of 30%, and removing duplicated vertices and faces fron non-manifold edges. Parameters can be modified or added to the **auto_meshlab_decimation.mlx** file found in **data/preprocessing**.\n",
    "\n",
    "Check which directory you are on, and whether the meshes that need to be decimated are there:"
   ]
  },
  {
   "cell_type": "code",
   "execution_count": 17,
   "metadata": {},
   "outputs": [
    {
     "data": {
      "text/plain": [
       "'/home/bhlab/Documents/Toussaint_pipeline/landmark-free-morphometry-master/data/preprocessing'"
      ]
     },
     "execution_count": 17,
     "metadata": {},
     "output_type": "execute_result"
    }
   ],
   "source": [
    "import os\n",
    "\n",
    "os.getcwd()"
   ]
  },
  {
   "cell_type": "markdown",
   "metadata": {},
   "source": [
    "If that is not the right directory, change the mesh_directory below. We recommend that you save all the meshes to the **./data/preprocessing** folder and process them there."
   ]
  },
  {
   "cell_type": "code",
   "execution_count": 15,
   "metadata": {},
   "outputs": [],
   "source": [
    "mesh_directory=\"./data/preprocessing\"\n",
    "os.chdir(mesh_directory)"
   ]
  },
  {
   "cell_type": "code",
   "execution_count": 16,
   "metadata": {},
   "outputs": [
    {
     "data": {
      "text/plain": [
       "['DO004F_skull_dec.ply',\n",
       " 'DO002F_skull_dec.ply',\n",
       " 'DO005F_skull_dec.ply',\n",
       " 'DO010F_skull_dec.ply',\n",
       " 'DO009F_skull_dec.ply',\n",
       " 'DO007F_skull_dec.ply',\n",
       " 'DO006F_skull_dec.ply',\n",
       " 'DO001F_skull_dec.ply',\n",
       " 'DO008F_skull_dec.ply',\n",
       " 'DO003F_skull_dec.ply']"
      ]
     },
     "execution_count": 16,
     "metadata": {},
     "output_type": "execute_result"
    }
   ],
   "source": [
    "import glob\n",
    "\n",
    "mesh_pattern=\"*.ply\"\n",
    "glob.glob(mesh_pattern)"
   ]
  },
  {
   "cell_type": "markdown",
   "metadata": {},
   "source": [
    "Run the following code to decimate the meshes. And change the mesh suffix depending on what you would like to use. We recommend using **PLY**."
   ]
  },
  {
   "cell_type": "code",
   "execution_count": 29,
   "metadata": {},
   "outputs": [
    {
     "data": {
      "text/plain": [
       "0"
      ]
     },
     "execution_count": 29,
     "metadata": {},
     "output_type": "execute_result"
    }
   ],
   "source": [
    "os.system(\"./automated_decimation_meshlab.sh ply _dec.ply\")"
   ]
  },
  {
   "cell_type": "markdown",
   "metadata": {},
   "source": [
    "If you do not have **PLY** meshes you can also convert meshes from other formats to **PLY**. For example, for **STL** meshes:"
   ]
  },
  {
   "cell_type": "code",
   "execution_count": 29,
   "metadata": {},
   "outputs": [
    {
     "data": {
      "text/plain": [
       "0"
      ]
     },
     "execution_count": 29,
     "metadata": {},
     "output_type": "execute_result"
    }
   ],
   "source": [
    "os.system(\"./automated_decimation_meshlab.sh stl _dec.ply\")"
   ]
  },
  {
   "cell_type": "markdown",
   "metadata": {},
   "source": [
    "Check that all the meshes have been decimated:"
   ]
  },
  {
   "cell_type": "code",
   "execution_count": 33,
   "metadata": {},
   "outputs": [
    {
     "data": {
      "text/plain": [
       "['*_dec_dec.ply',\n",
       " 'DO001F_skull_dec_dec.ply',\n",
       " 'DO002F_skull_dec_dec.ply',\n",
       " 'DO008F_skull_dec_dec.ply',\n",
       " 'DO009F_skull_dec_dec.ply',\n",
       " 'DO006F_skull_dec_dec.ply',\n",
       " 'DO010F_skull_dec_dec.ply',\n",
       " 'DO007F_skull_dec_dec.ply',\n",
       " 'DO003F_skull_dec_dec.ply',\n",
       " 'DO005F_skull_dec_dec.ply',\n",
       " 'DO004F_skull_dec_dec.ply']"
      ]
     },
     "execution_count": 33,
     "metadata": {},
     "output_type": "execute_result"
    }
   ],
   "source": [
    "dec_meshes=\"*_dec_dec.ply\"\n",
    "glob.glob(dec_meshes)"
   ]
  },
  {
   "cell_type": "markdown",
   "metadata": {},
   "source": [
    "# XML control files\n",
    "\n",
    "### **Dataset XML file**"
   ]
  },
  {
   "cell_type": "markdown",
   "metadata": {},
   "source": [
    "This section allows the user to easily create the **data_set.xml** file that will be used during the atlas construction. Please make sure you are in the data/atlasing/ directory. Check you are in the right directory. We recommend that you are working in the **./data/atlasing/** directory."
   ]
  },
  {
   "cell_type": "code",
   "execution_count": 1,
   "metadata": {},
   "outputs": [
    {
     "data": {
      "text/plain": [
       "'/home/bhlab/Documents/Toussaint_pipeline/landmark-free-morphometry-master'"
      ]
     },
     "execution_count": 1,
     "metadata": {},
     "output_type": "execute_result"
    }
   ],
   "source": [
    "os.getcwd()"
   ]
  },
  {
   "cell_type": "markdown",
   "metadata": {},
   "source": [
    "If you are not, please set the current working directory to the correct location:"
   ]
  },
  {
   "cell_type": "code",
   "execution_count": null,
   "metadata": {},
   "outputs": [],
   "source": [
    "xml_directory <- \"../atlasing\"\n",
    "os.chdir(xml_directory)"
   ]
  },
  {
   "cell_type": "markdown",
   "metadata": {},
   "source": [
    "Run the **model_constr.sh** script to create the **data-set.xml** file. The default is 'skull'. Change the model name so that it matches the model name defined in **model.xml**"
   ]
  },
  {
   "cell_type": "code",
   "execution_count": 3,
   "metadata": {},
   "outputs": [
    {
     "data": {
      "text/plain": [
       "0"
      ]
     },
     "execution_count": 3,
     "metadata": {},
     "output_type": "execute_result"
    }
   ],
   "source": [
    "os.system('./data-set_constr.sh skull')"
   ]
  },
  {
   "cell_type": "markdown",
   "metadata": {},
   "source": [
    "## **Model and optimization parameters**"
   ]
  },
  {
   "cell_type": "code",
   "execution_count": 4,
   "metadata": {},
   "outputs": [
    {
     "data": {
      "text/plain": [
       "0"
      ]
     },
     "execution_count": 4,
     "metadata": {},
     "output_type": "execute_result"
    }
   ],
   "source": [
    "os.system('./model_constr.sh DeterministicAtlas skull SurfaceMesh initial_template.vtk keops 2 20')"
   ]
  },
  {
   "cell_type": "markdown",
   "metadata": {},
   "source": [
    "If you would like to change the optimization parameters, we recommend that you read more about it in the **deformetrica** website (www.deformetrica.org). Only change parameters in the **optimization_parameters.xml** file if you are sure of what you want to do."
   ]
  },
  {
   "cell_type": "markdown",
   "metadata": {},
   "source": [
    "Before proceeding to the next tutorial **atlas-construction**, make sure that you have the all XML files that you will need: **data-set.xml**, **model.xml** and **optimization_parameters.xml**. You need to have the following files:\n",
    "\n",
    "| XML file                    |\n",
    "| :------------------------   |\n",
    "| data-set.xml                |\n",
    "| model.xml                   |\n",
    "| optimization_parameters.xml |\n"
   ]
  },
  {
   "cell_type": "code",
   "execution_count": 6,
   "metadata": {},
   "outputs": [
    {
     "data": {
      "text/plain": [
       "['optimization_parameters.xml',\n",
       " 'model.xml',\n",
       " 'model_original.xml',\n",
       " 'data-set.xml']"
      ]
     },
     "execution_count": 6,
     "metadata": {},
     "output_type": "execute_result"
    }
   ],
   "source": [
    "import glob\n",
    "\n",
    "glob.glob('*.xml')"
   ]
  },
  {
   "cell_type": "markdown",
   "metadata": {},
   "source": [
    "# Landmark files"
   ]
  },
  {
   "cell_type": "code",
   "execution_count": null,
   "metadata": {},
   "outputs": [],
   "source": []
  },
  {
   "cell_type": "code",
   "execution_count": null,
   "metadata": {},
   "outputs": [],
   "source": []
  },
  {
   "cell_type": "code",
   "execution_count": null,
   "metadata": {},
   "outputs": [],
   "source": []
  },
  {
   "cell_type": "code",
   "execution_count": null,
   "metadata": {},
   "outputs": [],
   "source": []
  },
  {
   "cell_type": "code",
   "execution_count": null,
   "metadata": {},
   "outputs": [],
   "source": []
  },
  {
   "cell_type": "markdown",
   "metadata": {},
   "source": [
    "## About this notebook\n",
    "\n",
    "For more information on **mps** landmark files please see: [mesh_batch_process](https://github.com/marta-vidalgarcia/mesh_batch_process).\n",
    "Please feel free to send any questions and suggestions.\n",
    "\n",
    "Written by Marta Vidal-Garcia\n",
    "\n",
    "Contact: <marta.vidalga@gmail.com>"
   ]
  },
  {
   "cell_type": "code",
   "execution_count": null,
   "metadata": {},
   "outputs": [],
   "source": []
  }
 ],
 "metadata": {
  "kernelspec": {
   "display_name": "Python 3",
   "language": "python",
   "name": "python3"
  },
  "language_info": {
   "codemirror_mode": {
    "name": "ipython",
    "version": 3
   },
   "file_extension": ".py",
   "mimetype": "text/x-python",
   "name": "python",
   "nbconvert_exporter": "python",
   "pygments_lexer": "ipython3",
   "version": "3.7.7"
  }
 },
 "nbformat": 4,
 "nbformat_minor": 4
}
