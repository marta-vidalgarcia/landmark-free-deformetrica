{
 "cells": [
  {
   "cell_type": "markdown",
   "metadata": {},
   "source": [
    "# **Mesh processing and XML files construction**\n",
    "\n",
    "This tutorial allows processing multiple meshes prior to the *Atlas construction* tutorial, and it creates the XML parameter files needed during the atlas construction processing, as per [deformetrica](www.deformetrica.org)'s instructions. It uses the data included in the subdirectory **data/atlasing/**, and it will output the XML file to that same directory.\n"
   ]
  },
  {
   "cell_type": "markdown",
   "metadata": {},
   "source": [
    "# Mesh decimation and conversion\n",
    "\n",
    "### **Mesh decimation and cleaning**"
   ]
  },
  {
   "cell_type": "markdown",
   "metadata": {},
   "source": [
    "This section allows the user to batch decimate meshes in **Meshlab** (https://www.meshlab.net/) with particular parameters. Here we are using a decimation percentage of 30%, and removing duplicated vertices and faces fron non-manifold edges. Parameters can be modified or added to the **auto_meshlab_decimation.mlx** file found in **data/preprocessing**.\n",
    "\n",
    "Check which directory you are on, and whether the meshes that need to be decimated are there:"
   ]
  },
  {
   "cell_type": "code",
   "execution_count": 27,
   "metadata": {},
   "outputs": [
    {
     "data": {
      "text/plain": [
       "'/home/bhlab/Desktop/landmark-free-morphometry/data/preprocessing'"
      ]
     },
     "execution_count": 27,
     "metadata": {},
     "output_type": "execute_result"
    }
   ],
   "source": [
    "import os\n",
    "\n",
    "os.getcwd()"
   ]
  },
  {
   "cell_type": "markdown",
   "metadata": {},
   "source": [
    "If that is not the right directory, change the mesh_directory below. We recommend that you save all the meshes to the **./data/preprocessing** folder and process them there."
   ]
  },
  {
   "cell_type": "code",
   "execution_count": 25,
   "metadata": {},
   "outputs": [],
   "source": [
    "mesh_directory=\"./data/preprocessing\"\n",
    "os.chdir(mesh_directory)"
   ]
  },
  {
   "cell_type": "code",
   "execution_count": 28,
   "metadata": {},
   "outputs": [
    {
     "data": {
      "text/plain": [
       "['DO010F_skull_dec.ply', 'DO009F_skull_dec.ply', 'DO008F_skull_dec.ply']"
      ]
     },
     "execution_count": 28,
     "metadata": {},
     "output_type": "execute_result"
    }
   ],
   "source": [
    "import glob\n",
    "\n",
    "mesh_pattern=\"*.ply\"\n",
    "glob.glob(mesh_pattern)"
   ]
  },
  {
   "cell_type": "markdown",
   "metadata": {},
   "source": [
    "Run the following code to decimate the meshes. And change the mesh suffix depending on what you would like to use. We recommend using **PLY**."
   ]
  },
  {
   "cell_type": "code",
   "execution_count": 59,
   "metadata": {},
   "outputs": [
    {
     "data": {
      "text/plain": [
       "0"
      ]
     },
     "execution_count": 59,
     "metadata": {},
     "output_type": "execute_result"
    }
   ],
   "source": [
    "os.system(\"./automated_decimation_meshlab.sh ply _dec.ply\")"
   ]
  },
  {
   "cell_type": "markdown",
   "metadata": {},
   "source": [
    "If you do not have **PLY** meshes you can also convert meshes from other formats to **PLY**. For example, for **STL** meshes:"
   ]
  },
  {
   "cell_type": "code",
   "execution_count": 58,
   "metadata": {},
   "outputs": [
    {
     "data": {
      "text/plain": [
       "0"
      ]
     },
     "execution_count": 58,
     "metadata": {},
     "output_type": "execute_result"
    }
   ],
   "source": [
    "os.system(\"./automated_decimation_meshlab.sh stl _dec.ply\")"
   ]
  },
  {
   "cell_type": "markdown",
   "metadata": {},
   "source": [
    "Check that all the meshes have been decimated:"
   ]
  },
  {
   "cell_type": "code",
   "execution_count": 56,
   "metadata": {},
   "outputs": [
    {
     "data": {
      "text/plain": [
       "['DO010F_skull_dec.ply', 'DO009F_skull_dec.ply', 'DO008F_skull_dec.ply']"
      ]
     },
     "execution_count": 56,
     "metadata": {},
     "output_type": "execute_result"
    }
   ],
   "source": [
    "dec_meshes=\"*_dec.ply\"\n",
    "glob.glob(dec_meshes)"
   ]
  },
  {
   "cell_type": "markdown",
   "metadata": {},
   "source": [
    "# XML control files\n",
    "\n",
    "### **Dataset XML file**"
   ]
  },
  {
   "cell_type": "markdown",
   "metadata": {},
   "source": [
    "This section allows the user to easily create the **data_set.xml** file that will be used during the atlas construction. Please make sure you are in the data/atlasing/ directory. Check you are in the right directory. We recommend that you are working in the **./data/atlasing/** directory."
   ]
  },
  {
   "cell_type": "code",
   "execution_count": 1,
   "metadata": {},
   "outputs": [
    {
     "data": {
      "text/plain": [
       "'/home/bhlab/Documents/Toussaint_pipeline/landmark-free-morphometry-master'"
      ]
     },
     "execution_count": 1,
     "metadata": {},
     "output_type": "execute_result"
    }
   ],
   "source": [
    "os.getcwd()"
   ]
  },
  {
   "cell_type": "markdown",
   "metadata": {},
   "source": [
    "If you are not, please set the current working directory to the correct location:"
   ]
  },
  {
   "cell_type": "code",
   "execution_count": null,
   "metadata": {},
   "outputs": [],
   "source": [
    "xml_directory <- \"../atlasing\"\n",
    "os.chdir(xml_directory)"
   ]
  },
  {
   "cell_type": "markdown",
   "metadata": {},
   "source": [
    "Run the **model_constr.sh** script to create the **data-set.xml** file. The default is 'skull'. Change the model name so that it matches the model name defined in **model.xml**"
   ]
  },
  {
   "cell_type": "code",
   "execution_count": 3,
   "metadata": {},
   "outputs": [
    {
     "data": {
      "text/plain": [
       "0"
      ]
     },
     "execution_count": 3,
     "metadata": {},
     "output_type": "execute_result"
    }
   ],
   "source": [
    "os.system('./data-set_constr.sh skull')"
   ]
  },
  {
   "cell_type": "markdown",
   "metadata": {},
   "source": [
    "## **Model and optimization parameters**"
   ]
  },
  {
   "cell_type": "code",
   "execution_count": 4,
   "metadata": {},
   "outputs": [
    {
     "data": {
      "text/plain": [
       "0"
      ]
     },
     "execution_count": 4,
     "metadata": {},
     "output_type": "execute_result"
    }
   ],
   "source": [
    "os.system('./model_constr.sh DeterministicAtlas skull SurfaceMesh initial_template.vtk keops 2 20')"
   ]
  },
  {
   "cell_type": "markdown",
   "metadata": {},
   "source": [
    "If you would like to change the optimization parameters, we recommend that you read more about it in the **deformetrica** website (www.deformetrica.org). Only change parameters in the **optimization_parameters.xml** file if you are sure of what you want to do."
   ]
  },
  {
   "cell_type": "markdown",
   "metadata": {},
   "source": [
    "Before proceeding to the next tutorial **atlas-construction**, make sure that you have the all XML files that you will need: **data-set.xml**, **model.xml** and **optimization_parameters.xml**. You need to have the following files:\n",
    "\n",
    "| XML file                    |\n",
    "| :------------------------   |\n",
    "| data-set.xml                |\n",
    "| model.xml                   |\n",
    "| optimization_parameters.xml |\n"
   ]
  },
  {
   "cell_type": "code",
   "execution_count": 6,
   "metadata": {},
   "outputs": [
    {
     "data": {
      "text/plain": [
       "['optimization_parameters.xml',\n",
       " 'model.xml',\n",
       " 'model_original.xml',\n",
       " 'data-set.xml']"
      ]
     },
     "execution_count": 6,
     "metadata": {},
     "output_type": "execute_result"
    }
   ],
   "source": [
    "import glob\n",
    "\n",
    "glob.glob('*.xml')"
   ]
  },
  {
   "cell_type": "markdown",
   "metadata": {},
   "source": [
    "# Landmark files"
   ]
  },
  {
   "cell_type": "markdown",
   "metadata": {},
   "source": [
    "If you have landmark files that you have generated in other software (e.g. extension .tag, .landmarkAscii, .csv, .tps, etc.) you can convert them to **.mps** files. \n",
    "\n",
    "Here we give an example for **CSV** files with a header."
   ]
  },
  {
   "cell_type": "code",
   "execution_count": 63,
   "metadata": {},
   "outputs": [
    {
     "data": {
      "text/plain": [
       "['spec3_skull.csv', 'spec2_skull.csv', 'spec1_skull.csv']"
      ]
     },
     "execution_count": 63,
     "metadata": {},
     "output_type": "execute_result"
    }
   ],
   "source": [
    "glob.glob('*.csv')"
   ]
  },
  {
   "cell_type": "code",
   "execution_count": 73,
   "metadata": {
    "scrolled": true
   },
   "outputs": [
    {
     "name": "stdout",
     "output_type": "stream",
     "text": [
      "The rpy2.ipython extension is already loaded. To reload it, use:\n",
      "  %reload_ext rpy2.ipython\n"
     ]
    }
   ],
   "source": [
    "import rpy2.rinterface\n",
    "\n",
    "%load_ext rpy2.ipython"
   ]
  },
  {
   "cell_type": "code",
   "execution_count": 74,
   "metadata": {},
   "outputs": [],
   "source": [
    "%%R\n",
    "source(\"csv2mps.R\")\n",
    "csv2mps()\n"
   ]
  },
  {
   "cell_type": "markdown",
   "metadata": {},
   "source": [
    "Here we give an example for **.tag** files generated with [MINC toolkit] (www.bic-mni.github.io)"
   ]
  },
  {
   "cell_type": "code",
   "execution_count": 65,
   "metadata": {},
   "outputs": [
    {
     "data": {
      "text/plain": [
       "['spec2_skull.tag', 'spec1_skull.tag', 'spec3_skull.tag']"
      ]
     },
     "execution_count": 65,
     "metadata": {},
     "output_type": "execute_result"
    }
   ],
   "source": [
    "glob.glob('*.tag')"
   ]
  },
  {
   "cell_type": "code",
   "execution_count": 69,
   "metadata": {},
   "outputs": [],
   "source": [
    "%%R\n",
    "source(\"tag2mps.R\")\n",
    "?tag2mps\n",
    "tag2mps(ID = c(\"spec1\", \"spec2\", \"spec3\"))"
   ]
  },
  {
   "cell_type": "code",
   "execution_count": 70,
   "metadata": {},
   "outputs": [
    {
     "data": {
      "text/plain": [
       "['spec1_skull.mps',\n",
       " 'spec1.mps',\n",
       " 'spec2_skull.mps',\n",
       " 'spec1_skull_test.mps',\n",
       " 'spec3_skull.mps',\n",
       " 'spec3.mps',\n",
       " 'spec2.mps']"
      ]
     },
     "execution_count": 70,
     "metadata": {},
     "output_type": "execute_result"
    }
   ],
   "source": [
    "glob.glob('*.mps')"
   ]
  },
  {
   "cell_type": "markdown",
   "metadata": {},
   "source": [
    "Convert **TXT** files without a header:"
   ]
  },
  {
   "cell_type": "code",
   "execution_count": 71,
   "metadata": {},
   "outputs": [],
   "source": [
    "%%R\n",
    "source(\"txt2mps.R\")\n",
    "txt2mps()"
   ]
  },
  {
   "cell_type": "markdown",
   "metadata": {},
   "source": [
    "## About this notebook\n",
    "\n",
    "For more information on **mps** files and converting other landmark files please see: [morpho.tools.GM](https://github.com/marta-vidalgarcia/morpho.tools.GM). For more information on mesh batch processing and file conversion in R please see: [mesh_batch_process](https://github.com/marta-vidalgarcia/mesh_batch_process).\n",
    "Please feel free to send any questions and suggestions!\n",
    "\n",
    "Written by Marta Vidal-Garcia\n",
    "\n",
    "Contact: <marta.vidalga@gmail.com>"
   ]
  }
 ],
 "metadata": {
  "kernelspec": {
   "display_name": "Python 3",
   "language": "python",
   "name": "python3"
  },
  "language_info": {
   "codemirror_mode": {
    "name": "ipython",
    "version": 3
   },
   "file_extension": ".py",
   "mimetype": "text/x-python",
   "name": "python",
   "nbconvert_exporter": "python",
   "pygments_lexer": "ipython3",
   "version": "3.7.7"
  }
 },
 "nbformat": 4,
 "nbformat_minor": 4
}
