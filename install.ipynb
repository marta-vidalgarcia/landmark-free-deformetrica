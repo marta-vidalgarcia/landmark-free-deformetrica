{
 "cells": [
  {
   "cell_type": "markdown",
   "metadata": {},
   "source": [
    "# Installation"
   ]
  },
  {
   "cell_type": "markdown",
   "metadata": {},
   "source": [
    "This tutorial will help installation of all the python modules and packages needed for running each of the steps of this pipeline."
   ]
  },
  {
   "cell_type": "code",
   "execution_count": null,
   "metadata": {},
   "outputs": [],
   "source": []
  },
  {
   "cell_type": "markdown",
   "metadata": {},
   "source": [
    "## Download Anaconda\n",
    "\n",
    "The first step is to download [Anaconda3](https://www.anaconda.com/products/individual). If you already have Anaconda or Miniconda, you can skip this step.\n",
    "\n",
    "\n",
    "You can check if you have Anaconda by typing this in the terminal:\n",
    "\n",
    "```\n",
    "$ conda list\n",
    "```\n",
    "\n",
    "This will show a list of already installed packages, their versions and build.\n",
    "\n",
    "To enter the python shell, run this command in the terminal:\n",
    "\n",
    "```\n",
    "$ python\n",
    "```\n",
    "\n",
    "You can exit the python shell by typing the command **quit()**.\n",
    "\n",
    "For more information on how to verify install you can read the help file from [Anaconda](https://docs.anaconda.com/anaconda/install/verify-install/)\n",
    "\n",
    "\n",
    "## Download this pipeline's repository through the terminal\n",
    "\n",
    "You can either download the pipeline (and all its associated files through the terminal or through direct download). Firstly you need to make sure you have installed **git**. If you are unsure, you can check in the terminal:\n",
    "\n",
    "```\n",
    "$ git --version\n",
    "```\n",
    "\n",
    "You will need to install it for downloading the most up to date pipeline version through the terminal. For information on how to install git in both MacOS and Linux, check this [link](https://git-scm.com/book/en/v2/Getting-Started-Installing-Git).\n",
    "\n",
    "\n",
    "If you have installed git, you can run in the terminal:\n",
    "\n",
    "```\n",
    "$ cd ~/Desktop/test/ \n",
    "\n",
    "$ git clone https://gitlab.com/ntoussaint/landmark-free-morphometry --depth 1 --branch=master && cd landmark-free-morphometry\n",
    "\n",
    "```\n",
    "\n",
    "If you need to download a specific *branch* (other than *master*) you can specify that in the command above.\n",
    "\n",
    "\n",
    "***Please note that the '$' sign before a line of code denotes code to be run in the terminal.***\n",
    "\n",
    "\n",
    "To open the terminal in Mac OS:\n",
    "\n",
    "Press **CMD** + **space** -> This will open the Spotlight, where you can type ***terminal***. That will open a terminal window.\n",
    "\n",
    "\n",
    "To open the terminal in Linux-Ubuntu:\n",
    "\n",
    "You can click on **Show applications** (corner of your screen), then type ***terminal***, which will open a terminal window. Alternatively, \n",
    "\n",
    "\n"
   ]
  },
  {
   "cell_type": "markdown",
   "metadata": {},
   "source": []
  },
  {
   "cell_type": "markdown",
   "metadata": {},
   "source": [
    "\n",
    "## Direct download of this pipeline\n",
    "\n",
    "Alternatively, you can donwload the folder directly from [here](https://gitlab.com/ntoussaint/landmark-free-morphometry):\n",
    "\n",
    "![Direct_download](Images/direct_download.png \"Direct_Download\")\n"
   ]
  },
  {
   "cell_type": "markdown",
   "metadata": {},
   "source": [
    "\n",
    "\n",
    "## Create the landmark-free morphometry environment\n",
    "\n",
    "In order to install all the phyton packages and modules, you need to run the following two commands from your terminal.\n",
    "\n",
    "```\n",
    "$ conda env create ./data/installation/environment_landmark-free.yaml\n",
    "\n",
    "$ conda activate landmark-free\n",
    "\n",
    "```"
   ]
  },
  {
   "cell_type": "code",
   "execution_count": null,
   "metadata": {},
   "outputs": [],
   "source": []
  },
  {
   "cell_type": "markdown",
   "metadata": {},
   "source": [
    "\n",
    "After you have installed everything, you can start the landmark-free morphometry pipeline from the terminal with:\n",
    "\n",
    "```\n",
    "$ ipython notebook\n",
    "```\n",
    "\n",
    "\n"
   ]
  },
  {
   "cell_type": "markdown",
   "metadata": {},
   "source": [
    "\n",
    "After this, we recommend that you perform a test run with the files we provide in our repository. After you have tested that this is working properly, please remove the **txt**, **tag**, and **csv** files from the ./data/preprocessing/ folder. Similarly, remove all **mps** and **vtk** files from the ./data/alignment/ and ./data/atlasing/ folders.\n",
    "\n",
    "\n",
    "Great, now you are all set to start analysing your data!"
   ]
  },
  {
   "cell_type": "markdown",
   "metadata": {},
   "source": [
    "\n",
    "\n",
    "## About this notebook\n",
    "\n",
    "Written by Marta Vidal-Garcia\n",
    "\n",
    "If you need help during installation, please contact: <nicolas.a.toussaint@kcl.ac.uk> or <marta.vidalga@gmail.com>"
   ]
  }
 ],
 "metadata": {
  "kernelspec": {
   "display_name": "Python 2",
   "language": "python",
   "name": "python2"
  },
  "language_info": {
   "codemirror_mode": {
    "name": "ipython",
    "version": 3
   },
   "file_extension": ".py",
   "mimetype": "text/x-python",
   "name": "python",
   "nbconvert_exporter": "python",
   "pygments_lexer": "ipython3",
   "version": "3.7.7"
  }
 },
 "nbformat": 4,
 "nbformat_minor": 4
}
