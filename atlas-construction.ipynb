{
 "cells": [
  {
   "cell_type": "markdown",
   "metadata": {},
   "source": [
    "# Atlas Contruction\n",
    "\n",
    "This tutorial helps the construction of an shape atlas using [deformetrica](www.deformetrica.org)\n",
    "\n",
    "\n",
    "## Python Packages required:\n",
    "\n",
    "- matplotlib\n",
    "\n",
    "- numpy\n",
    "\n",
    "- vtk\n",
    "\n",
    "- pandas\n",
    "\n",
    "- pandas\n",
    "\n",
    "- seaborn\n",
    "\n",
    "Deformetrica is an open-source library that is dedicated to shape statistics. It is the core of this project. It allows the construction of an atlas from a population of shapes. \n",
    "\n",
    "\n",
    "The atlas needs a series of inputs:\n",
    "\n",
    "- The initial shape (vtk mesh) for each subject\n",
    "\n",
    "- An initial template shape (vtk mesh)\n",
    "\n",
    "- Options from 3 parameter xml files\n",
    "\n",
    "  * model.xlm\n",
    "  \n",
    "  * data_set.xml\n",
    "  \n",
    "  * optimization_parameters.xml\n",
    "\n",
    "\n",
    "The atlas output consists on:\n",
    "\n",
    "- The mean of the population\n",
    "\n",
    "- The moments of displacements from a subject to the mean\n",
    "\n",
    "- The control points that define area of major variability amongst the population\n",
    "\n",
    "\n",
    "The tutorial uses the data included in the subdirectory **data**.\n"
   ]
  },
  {
   "cell_type": "markdown",
   "metadata": {},
   "source": [
    "## Make sure deformetrica is installed\n"
   ]
  },
  {
   "cell_type": "code",
   "execution_count": 1,
   "metadata": {},
   "outputs": [
    {
     "name": "stdout",
     "output_type": "stream",
     "text": [
      "Found deformetrica at this location: /home/bhlab/anaconda3/envs/landmark-free/bin/deformetrica\n"
     ]
    }
   ],
   "source": [
    "def which(program):\n",
    "    ''' Search for a program on disk\n",
    "    '''\n",
    "    import os\n",
    "    def is_exe(fpath):\n",
    "        return os.path.isfile(fpath) and os.access(fpath, os.X_OK)\n",
    "\n",
    "    fpath, fname = os.path.split(program)\n",
    "    if fpath:\n",
    "        if is_exe(program):\n",
    "            return program\n",
    "    else:\n",
    "        for path in os.environ[\"PATH\"].split(os.pathsep):\n",
    "            exe_file = os.path.join(path, program)\n",
    "            if is_exe(exe_file):\n",
    "                return exe_file\n",
    "\n",
    "    return None\n",
    "\n",
    "deformetrica_location = which('deformetrica')\n",
    "if deformetrica_location is None:\n",
    "    print('deformetrica error: Please install the deformetrica library: www.deformetrica.org')\n",
    "else: \n",
    "    print('Found deformetrica at this location: {}'.format(deformetrica_location))\n"
   ]
  },
  {
   "cell_type": "markdown",
   "metadata": {},
   "source": [
    "## Load data\n",
    "\n",
    "The data used in this tutorial are located in the 'data/atlasing' subfolder.\n",
    "\n",
    "| File                        | Description         | \n",
    "| :-------------              |:--------------------|\n",
    "| 1_r.vtk                     | Mesh file           |\n",
    "| 2_r.vtk                     | Mesh file           |\n",
    "| data_set.xlm                | data list           |\n",
    "| model.xlm                   | deformation params  |\n",
    "| optimization_parameters.xlm | optimization params |\n",
    "\n",
    "\n",
    "- The **model.xml** file contains deformation parameters that are important:\n",
    "  * <template> noise-std: ratio between data attachment and regularity terms, usually **10**\n",
    "  * <template> kernel-width: Order of magnitude of displacements for the template\n",
    "  * <deformation-parameters> kernel-width: Order of magnitude for the subjects' displacements\n",
    "  * <deformation-parameters> number-of-timepoints: number of steps in the diffeomorphic displacements\n",
    " \n",
    "\n",
    "- The **optimization_parameters.xml** file contains the parameters that drive the minimization procedure:\n",
    "  * max-iterations: Stop criterion for iterations, usually **~150**\n",
    "  * number-of-threads: Number of threads to use, usually equal to the number of subjects\n",
    "  \n",
    "  "
   ]
  },
  {
   "cell_type": "markdown",
   "metadata": {},
   "source": [
    "## Launch atlasing step\n"
   ]
  },
  {
   "cell_type": "markdown",
   "metadata": {},
   "source": [
    "### Using CUDA\n",
    "If you will be using CUDA, you need to use **nvidia-cuda-mps-control**. This allows the user to maximise computational speed by at least two orders of magnitude, by allowing multiple CUDA processes to share a single GPU context.\n",
    "\n",
    "For information on how to use the CUDA MPS, see the nvidia-cuda-mps-control manual page: https://docs.nvidia.com/deploy/pdf/CUDA_Multi_Process_Service_Overview.pdf\n",
    "\n",
    "If you are not using CUDA, please skip the next step."
   ]
  },
  {
   "cell_type": "code",
   "execution_count": null,
   "metadata": {},
   "outputs": [],
   "source": [
    "import os\n",
    "\n",
    "startCUDAmps = \"sudo nvidia-cuda-mps-control -d\"\n",
    "\n",
    "os.system(startCUDAmps)"
   ]
  },
  {
   "cell_type": "markdown",
   "metadata": {},
   "source": [
    "Remember to turn **nvidia-cuda-mps-control** off *after* using this pipeline:"
   ]
  },
  {
   "cell_type": "code",
   "execution_count": null,
   "metadata": {},
   "outputs": [],
   "source": [
    "quitCUDAmps = \"echo quit | nvidia-cuda-mps-control\"\n",
    "\n",
    "os.system(quitCUDAmps)"
   ]
  },
  {
   "cell_type": "markdown",
   "metadata": {},
   "source": [
    "If you do not have CUDA running yet, but would like to utilise the GPU with this pipeline, you can follow instructions for installation in Mac OSX and Linux [here](https://docs.nvidia.com/cuda/cuda-quick-start-guide/index.html)"
   ]
  },
  {
   "cell_type": "markdown",
   "metadata": {},
   "source": [
    "### Atlasing\n",
    "\n",
    "This step calls the bash script 'deformetrica.sh', which in its turn, calls the following files that we previously generated during the [mesh processing and XML generation step](https://gitlab.com/ntoussaint/landmark-free-morphometry/-/blob/update-atlasing/mesh-process.ipynb):  **model.xml**, **data_set.xml**, and **optimization_parameters.xml**."
   ]
  },
  {
   "cell_type": "code",
   "execution_count": 3,
   "metadata": {},
   "outputs": [
    {
     "data": {
      "text/plain": [
       "0"
      ]
     },
     "execution_count": 3,
     "metadata": {},
     "output_type": "execute_result"
    }
   ],
   "source": [
    "import os\n",
    "\n",
    "working_directory = os.path.join(os.getcwd(), 'data', 'atlasing')\n",
    "script_filename = os.path.join(working_directory, 'deformetrica.sh')\n",
    "os.system('bash {}'.format(script_filename))\n"
   ]
  },
  {
   "cell_type": "markdown",
   "metadata": {},
   "source": [
    "## Check results\n",
    "\n",
    "The progress of the deformetrica minimization procedure are logged into a file: `deformetrica.log`. \n",
    "\n",
    "Another output is located in `convergence.txt`, and contains the enery terms through all iterations.\n",
    "\n",
    "The file can be opened for inspection\n"
   ]
  },
  {
   "cell_type": "code",
   "execution_count": 1,
   "metadata": {},
   "outputs": [
    {
     "data": {
      "image/png": "[encoded data removed]",
      "text/plain": [
       "<Figure size 576x432 with 1 Axes>"
      ]
     },
     "metadata": {
      "needs_background": "light"
     },
     "output_type": "display_data"
    }
   ],
   "source": [
    "%matplotlib inline\n",
    "import pandas as pd\n",
    "import numpy as np\n",
    "import os\n",
    "from matplotlib import pyplot as plt\n",
    "import matplotlib as mpl\n",
    "\n",
    "working_directory = os.path.join(os.getcwd(), 'data', 'atlasing')\n",
    "\n",
    "convergence_log = os.path.join(working_directory, 'convergence.txt')\n",
    "df = pd.DataFrame(data=np.loadtxt(convergence_log, delimiter=' '), \n",
    "                  columns=['Log-Likelihood','Attachment','Regularity'])\n",
    "\n",
    "plt.figure(figsize=(8,6))\n",
    "plt.plot(df['Log-Likelihood'], 'r-', label='Log-Likelihood', linewidth=4.0)\n",
    "plt.plot(df['Attachment'], 'g-', label='Attachment', linewidth=4.0)\n",
    "plt.plot(df['Regularity'], 'b-', label='Regularity', linewidth=4.0)\n",
    "plt.xlabel('Iteration')\n",
    "plt.legend(bbox_to_anchor=(.6, .5), loc='best', borderaxespad=0., fancybox=True, framealpha=0.5)\n",
    "plt.grid(which='major')\n",
    "plt.title('Optimization convergence (log-likelihood)')\n",
    "plt.savefig(os.path.join(working_directory, 'convergence.png'))\n"
   ]
  },
  {
   "cell_type": "markdown",
   "metadata": {},
   "source": [
    "## Write convergence log\n",
    "\n",
    "The convergence plot can be saved in 'csv' format to be open in excel for instance for future use"
   ]
  },
  {
   "cell_type": "code",
   "execution_count": 5,
   "metadata": {},
   "outputs": [],
   "source": [
    "df.to_csv(os.path.join(working_directory, 'convergence.csv'))"
   ]
  },
  {
   "cell_type": "markdown",
   "metadata": {},
   "source": [
    "## Output files\n",
    "\n",
    "\n",
    "The data that the atlas formation outputs is gathered in the current folder `data/atlasing`\n",
    "\n",
    "\n",
    "| File                        | Description          | \n",
    "| :-------------              |:---------------------|\n",
    "| DeterministicAtlas__EstimatedParameters__ControlPoints.txt     | Control points       |\n",
    "| DeterministicAtlas__EstimatedParameters__Momentas.txt          | Momenta (for each subject) |\n",
    "| DeterministicAtlas__EstimatedParameters__Residuals.txt         | unused               |\n",
    "| DeterministicAtlas__EstimatedParameters__Template_mandible.vtk  | Final mean shape     |\n",
    "| DeterministicAtlas__flow__mandible__subject{X} | shootings to each subject |\n",
    "\n"
   ]
  },
  {
   "cell_type": "markdown",
   "metadata": {},
   "source": [
    "## About this notebook\n",
    "\n",
    "written by Nicolas Toussaint & Marta Vidal-Garcia\n",
    "\n",
    "Contact: <nicolas.a.toussaint@kcl.ac.uk> or <marta.vidalga@gmail.com>"
   ]
  }
 ],
 "metadata": {
  "kernelspec": {
   "display_name": "Python 2",
   "language": "python",
   "name": "python2"
  },
  "language_info": {
   "codemirror_mode": {
    "name": "ipython",
    "version": 3
   },
   "file_extension": ".py",
   "mimetype": "text/x-python",
   "name": "python",
   "nbconvert_exporter": "python",
   "pygments_lexer": "ipython3",
   "version": "3.7.7"
  }
 },
 "nbformat": 4,
 "nbformat_minor": 2
}
