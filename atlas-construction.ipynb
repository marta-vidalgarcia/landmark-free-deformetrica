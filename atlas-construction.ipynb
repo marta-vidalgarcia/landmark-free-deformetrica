{
 "cells": [
  {
   "cell_type": "markdown",
   "metadata": {},
   "source": [
    "# Atlas Contruction\n",
    "\n",
    "This tutorial helps the construction of an shape atlas using [deformetrica](www.deformetrica.org)\n",
    "\n",
    "\n",
    "## Python Packages required:\n",
    "\n",
    "- matplotlib\n",
    "\n",
    "- numpy\n",
    "\n",
    "- vtk\n",
    "\n",
    "- pandas\n",
    "\n",
    "- pandas\n",
    "\n",
    "- seaborn\n",
    "\n",
    "Deformetrica is an open-source library that is dedicated to shape statistics. It is the core of this project. It allows the construction of an atlas from a population of shapes. \n",
    "\n",
    "\n",
    "The atlas needs a series of inputs:\n",
    "\n",
    "- The initial shape (vtk mesh) for each subject\n",
    "\n",
    "- An initial template shape (vtk mesh)\n",
    "\n",
    "- Options from 3 parameter xml files\n",
    "\n",
    "  * model.xlm\n",
    "  \n",
    "  * data_set.xml\n",
    "  \n",
    "  * optimization_parameters.xml\n",
    "\n",
    "\n",
    "The atlas output consists on:\n",
    "\n",
    "- The mean of the population\n",
    "\n",
    "- The moments of displacements from a subject to the mean\n",
    "\n",
    "- The control points that define area of major variability amongst the population\n",
    "\n",
    "\n",
    "The tutorial uses the data included in the subdirectory **data**.\n"
   ]
  },
  {
   "cell_type": "code",
   "execution_count": null,
   "metadata": {},
   "outputs": [],
   "source": [
    "def which(program):\n",
    "    ''' Search for a program on disk\n",
    "    '''\n",
    "    import os\n",
    "    def is_exe(fpath):\n",
    "        return os.path.isfile(fpath) and os.access(fpath, os.X_OK)\n",
    "\n",
    "    fpath, fname = os.path.split(program)\n",
    "    if fpath:\n",
    "        if is_exe(program):\n",
    "            return program\n",
    "    else:\n",
    "        for path in os.environ[\"PATH\"].split(os.pathsep):\n",
    "            exe_file = os.path.join(path, program)\n",
    "            if is_exe(exe_file):\n",
    "                return exe_file\n",
    "\n",
    "    return None\n",
    "\n",
    "deformetrica_location = which('deformetrica')\n",
    "if deformetrica_location is None:\n",
    "    print('deformetrica error: Please install the deformetrica library: www.deformetrica.org')\n",
    "else: \n",
    "    print('Found deformetrica at this location: {}'.format(deformetrica_location))\n"
   ]
  },
  {
   "cell_type": "markdown",
   "metadata": {},
   "source": [
    "## Load data\n",
    "\n",
    "The data used in this tutorial are located in the 'data/atlasing' subfolder.\n",
    "\n",
    "| File                        | Description         | \n",
    "| :-------------              |:--------------------|\n",
    "| 1_r.vtk                     | Mesh file           |\n",
    "| 2_r.vtk                     | Mesh file           |\n",
    "| data_set.xlm                | data list           |\n",
    "| model.xlm                   | deformation params  |\n",
    "| optimization_parameters.xlm | optimization params |\n",
    "\n",
    "\n",
    "- The **model.xml** file contains deformation parameters that are important:\n",
    "  * <template> data-sigma: ratio between data attachment and regularity terms, usually **10**\n",
    "  * <template> kernel-width: Order of magnitude of displacements for the template\n",
    "  * <deformation-parameters> kernel-width: Order of magnitude for the subjects' displacements\n",
    "  * <deformation-parameters> number-of-timepoints: number of steps in the diffeomorphic displacements\n",
    " \n",
    "\n",
    "- The **optimization_parameters.xml** file contains the parameters that drive the minimization procedure:\n",
    "  * max-iterations: Stop criterion for iterations, usually **~150**\n",
    "  * number-of-threads: Number of threads to use, usually equal to the number of subjects\n",
    "  \n",
    "  "
   ]
  },
  {
   "cell_type": "markdown",
   "metadata": {},
   "source": [
    "## Launch simulation\n"
   ]
  },
  {
   "cell_type": "code",
   "execution_count": null,
   "metadata": {},
   "outputs": [],
   "source": [
    "import os\n",
    "\n",
    "working_directory = os.path.join(os.getcwd(), 'data', 'atlasing')\n",
    "script_filename = os.path.join(working_directory, 'deformetrica.sh')\n",
    "os.system('bash {}'.format(script_filename))\n"
   ]
  },
  {
   "cell_type": "markdown",
   "metadata": {
    "collapsed": true
   },
   "source": [
    "## Check results\n",
    "\n",
    "The progress of the deformetrica minimization procedure are logged into a file: `deformetrica.log`. \n",
    "\n",
    "Another output is located in `convergence.txt`, and contains the enery terms through all iterations.\n",
    "\n",
    "The file can be opened for inspection\n"
   ]
  },
  {
   "cell_type": "code",
   "execution_count": null,
   "metadata": {},
   "outputs": [],
   "source": [
    "%matplotlib inline\n",
    "import pandas as pd\n",
    "import numpy as np\n",
    "import os\n",
    "from matplotlib import pyplot as plt\n",
    "import matplotlib as mpl\n",
    "\n",
    "working_directory = os.path.join(os.getcwd(), 'data', 'atlasing')\n",
    "\n",
    "convergence_log = os.path.join(working_directory, 'convergence.txt')\n",
    "df = pd.DataFrame(data=np.loadtxt(convergence_log, delimiter=' '), \n",
    "                  columns=['Log-Likelihood','Attachment','Regularity'])\n",
    "\n",
    "plt.figure(figsize=(8,6))\n",
    "plt.plot(df['Log-Likelihood'], 'r-', label='Log-Likelihood', linewidth=4.0)\n",
    "plt.plot(df['Attachment'], 'g-', label='Attachment', linewidth=4.0)\n",
    "plt.plot(df['Regularity'], 'b-', label='Regularity', linewidth=4.0)\n",
    "plt.xlabel('Iteration')\n",
    "plt.legend(bbox_to_anchor=(.6, .5), loc='best', borderaxespad=0., fancybox=True, framealpha=0.5)\n",
    "plt.grid(which='major')\n",
    "plt.title('Optimization convergence (log-likelihood)')\n",
    "plt.savefig(os.path.join(working_directory, 'convergence.png'))\n"
   ]
  },
  {
   "cell_type": "markdown",
   "metadata": {},
   "source": [
    "## Write convergence log\n",
    "\n",
    "The convergence plot can be saved in 'csv' format to be open in excel for instance for future use"
   ]
  },
  {
   "cell_type": "code",
   "execution_count": null,
   "metadata": {},
   "outputs": [],
   "source": [
    "df.to_csv(os.path.join(working_directory, 'convergence.csv'))"
   ]
  },
  {
   "cell_type": "markdown",
   "metadata": {},
   "source": [
    "## Output files\n",
    "\n",
    "\n",
    "The data that the atlas formation outputs is gathered in the current folder `data/atlasing`\n",
    "\n",
    "\n",
    "| File                        | Description          | \n",
    "| :-------------              |:---------------------|\n",
    "| Atlas_ControlPoints.txt     | Control points       |\n",
    "| Atlas_Momentas.txt          | Momenta (for each subject) |\n",
    "| Atlas_DataSigma.txt         | unused               |\n",
    "| Atlas_initial_template.vtk  | Final mean shape     |\n",
    "| Atlas_initial_template_to_subject{X} | shootings to each subject |\n",
    "\n"
   ]
  },
  {
   "cell_type": "markdown",
   "metadata": {},
   "source": [
    "## About this notebook\n",
    "\n",
    "written by Nicolas Toussaint\n",
    "\n",
    "Contact: <nicolas.a.toussaint@kcl.ac.uk>"
   ]
  }
 ],
 "metadata": {
  "kernelspec": {
   "display_name": "Python 3",
   "language": "python",
   "name": "python3"
  },
  "language_info": {
   "codemirror_mode": {
    "name": "ipython",
    "version": 3
   },
   "file_extension": ".py",
   "mimetype": "text/x-python",
   "name": "python",
   "nbconvert_exporter": "python",
   "pygments_lexer": "ipython3",
   "version": "3.5.2+"
  }
 },
 "nbformat": 4,
 "nbformat_minor": 2
}
