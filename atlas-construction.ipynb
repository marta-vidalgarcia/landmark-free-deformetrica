{
 "cells": [
  {
   "cell_type": "markdown",
   "metadata": {},
   "source": [
    "# Atlas Contruction\n",
    "\n",
    "This tutorial helps the construction of an shape atlas using [deformetrica](www.deformetrica.org)\n",
    "\n",
    "\n",
    "## Python Packages required:\n",
    "\n",
    "- matplotlib\n",
    "\n",
    "- numpy\n",
    "\n",
    "- vtk\n",
    "\n",
    "- pandas\n",
    "\n",
    "- pandas\n",
    "\n",
    "- seaborn\n",
    "\n",
    "Deformetrica is an open-source library that is dedicated to shape statistics. It is the core of this project. It allows the construction of an atlas from a population of shapes. \n",
    "\n",
    "\n",
    "The atlas needs a series of inputs:\n",
    "\n",
    "- The initial shape (vtk mesh) for each subject\n",
    "\n",
    "- An initial template shape (vtk mesh)\n",
    "\n",
    "- Options from 3 parameter xml files\n",
    "\n",
    "  * model.xlm\n",
    "  \n",
    "  * data_set.xml\n",
    "  \n",
    "  * optimization_parameters.xml\n",
    "\n",
    "\n",
    "The atlas output consists on:\n",
    "\n",
    "- The mean of the population\n",
    "\n",
    "- The moments of displacements from a subject to the mean\n",
    "\n",
    "- The control points that define area of major variability amongst the population\n",
    "\n",
    "\n",
    "The tutorial uses the data included in the subdirectory **data**.\n"
   ]
  }
  {
   "cell_type": "markdown",
   "metadata": {},
   "source": [
    "# Deformetrica\n",
    "\n",
    ]
    },
  {
   "cell_type": "code",
   "execution_count": 1,
   "metadata": {},
   "outputs": [
    {
     "name": "stdout",
     "output_type": "stream",
     "text": [
      "Found deformetrica at this location: /usr/local/bin/deformetrica\n"
     ]
    }
   ],
   "source": [
    "def which(program):\n",
    "    ''' Search for a program on disk\n",
    "    '''\n",
    "    import os\n",
    "    def is_exe(fpath):\n",
    "        return os.path.isfile(fpath) and os.access(fpath, os.X_OK)\n",
    "\n",
    "    fpath, fname = os.path.split(program)\n",
    "    if fpath:\n",
    "        if is_exe(program):\n",
    "            return program\n",
    "    else:\n",
    "        for path in os.environ[\"PATH\"].split(os.pathsep):\n",
    "            exe_file = os.path.join(path, program)\n",
    "            if is_exe(exe_file):\n",
    "                return exe_file\n",
    "\n",
    "    return None\n",
    "\n",
    "deformetrica_location = which('deformetrica')\n",
    "if deformetrica_location is None:\n",
    "    print('deformetrica error: Please install the deformetrica library: www.deformetrica.org')\n",
    "else: \n",
    "    print('Found deformetrica at this location: {}'.format(deformetrica_location))\n"
   ]
  },
  {
   "cell_type": "markdown",
   "metadata": {},
   "source": [
    "## Load data\n",
    "\n",
    "The data used in this tutorial are located in the 'data/atlasing' subfolder.\n",
    "\n",
    "| File                        | Description         | \n",
    "| :-------------              |:--------------------|\n",
    "| 1_r.vtk                     | Mesh file           |\n",
    "| 2_r.vtk                     | Mesh file           |\n",
    "| data_set.xlm                | data list           |\n",
    "| model.xlm                   | deformation params  |\n",
    "| optimization_parameters.xlm | optimization params |\n",
    "\n",
    "\n",
    "- The **model.xml** file contains deformation parameters that are important:\n",
    "  * <template> noise-std: ratio between data attachment and regularity terms, usually **10**\n",
    "  * <template> kernel-width: Order of magnitude of displacements for the template\n",
    "  * <deformation-parameters> kernel-width: Order of magnitude for the subjects' displacements\n",
    "  * <deformation-parameters> number-of-timepoints: number of steps in the diffeomorphic displacements\n",
    " \n",
    "\n",
    "- The **optimization_parameters.xml** file contains the parameters that drive the minimization procedure:\n",
    "  * max-iterations: Stop criterion for iterations, usually **~150**\n",
    "  * number-of-threads: Number of threads to use, usually equal to the number of subjects\n",
    "  \n",
    "  "
   ]
  },
  {
   "cell_type": "markdown",
   "metadata": {},
   "source": [
    "## Launch simulation\n"
   ]
  },
  {
   "cell_type": "code",
   "execution_count": 2,
   "metadata": {},
   "outputs": [
    {
     "data": {
      "text/plain": [
       "0"
      ]
     },
     "execution_count": 2,
     "metadata": {},
     "output_type": "execute_result"
    }
   ],
   "source": [
    "import os\n",
    "\n",
    "working_directory = os.path.join(os.getcwd(), 'data', 'atlasing')\n",
    "script_filename = os.path.join(working_directory, 'deformetrica.sh')\n",
    "os.system('bash {}'.format(script_filename))\n"
   ]
  },
  {
   "cell_type": "markdown",
   "metadata": {
    "collapsed": true
   },
   "source": [
    "## Check results\n",
    "\n",
    "The progress of the deformetrica minimization procedure are logged into a file: `deformetrica.log`. \n",
    "\n",
    "Another output is located in `convergence.txt`, and contains the enery terms through all iterations.\n",
    "\n",
    "The file can be opened for inspection\n"
   ]
  },
  {
   "cell_type": "code",
   "execution_count": 4,
   "metadata": {},
   "outputs": [
    {
     "data": {
      "image/png": "iVBORw0KGgoAAAANSUhEUgAAAf0AAAGDCAYAAAAh5Mk5AAAABHNCSVQICAgIfAhkiAAAAAlwSFlzAAALEgAACxIB0t1+/AAAADl0RVh0U29mdHdhcmUAbWF0cGxvdGxpYiB2ZXJzaW9uIDMuMC4yLCBodHRwOi8vbWF0cGxvdGxpYi5vcmcvOIA7rQAAIABJREFUeJzs3Xl8VNX9//HXJ2GVVRYjCAgqoLIIgiJWNIgiuIBaN9zQon5t6/brt35FrZVW/dZva6t1rbZStVXQ4o64gJAqVQygKIIiYVMWBUSWsGY5vz/OnWRmMkkmyUyWmffz8biPe++52zkzgc/cc889x5xziIiISOrLqOsMiIiISO1Q0BcREUkTCvoiIiJpQkFfREQkTSjoi4iIpAkFfRERkTShoC8Nhpl1M7N8M8us5vH5ZnZIfcqTJJ+Z/ZeZPRAsdzczZ2aNknCdSWb2z2A54u/CzHLM7KpqnPMKM5sbtl7yN2xmT5nZ3YnKfwV5yDaztWHruWbWJ9nXleRQ0JekCf7DWmxmu8zsWzN7zMzaVuH41WZ2SmjdOfe1c66lc66oOvkJjl1ZnWOTlSdJLjNrAvwK+ENtXjdZfxeJ+BtOgPuA39ZxHqSaFPQlKczsv4H/A24G2gDHAQcDM4P/iKUBS8adcpKMBb50zq2r64ykkNeA4WZ2YF1nRKpOQV8SzsxaA78BrnfOveWcK3DOrQYuALoDlwb7TTKzaWb2vJntMLOPzeyoYNs/gG7A60GV5v9EV80GVaZ3m9kHwT6vm1l7M3vWzLab2Xwz6x6WL2dmh5lZ52D/0LTLzFywz6FmNtvMvjezzcG52lYhT53N7DUz22JmeWZ2ddj1J5nZC2b2TFDeJWY2uILPsY+ZzQzO9Z2Z3RakNzWzB8xsfTA9YGZNg23ZZrbWzP7bzDaa2QYzuzLYNiSocckMu8Y5ZvZZsJxhZhPNbEVQ/hfMrF2wLVTOCWb2NTA7SL/czNYE+98RXhMS5/nGm9nXwWd9e1i+Ms3stuDYHWa20My6BtsOD/tclpnZBRX8OY4G/l3BZ1zR99XczJ42sx/M7Ivg+15b3rmizlvuYwQz62Rmn5nZzcF6GzN7Mviu1gV/0zEfF4X+hsOS9jezN4LP6CMzOzRs3+ODfwPbgvnxVSj3U0G5lwLHhOfBObcHWAicFs9nIfWMc06TpoROwCigEGgUY9vTwJRgeRJQAJwHNAZ+CawCGgfbVwOnhB3bHXCh8wI5QB5wKL42YSnwFXAK0Ah4Bvh72PEOOCxGnp4Ny9NhwKlAU6Aj8B7wQNi+leXpPeBRoBkwANgEnBxW3j3A6UAm8DtgXjmfYStgA/DfwblaAUOCbb8F5gEHBHn8ALgr2JYdfPa/DT7T04FdwP7B9hXAqWHX+RcwMVi+MThvl6D8j4d9LqFyPgO0AJoDRwL5wAlAE3y1b0Ho84nzfH8NznUUsBc4Ith+M7AY6A1YsL19cO1vgCuD73ggsBk4spzPcT5wfjW/r3vxPxj2D8rwGbC2gr/7ScA/K/hbvQrogf8bvSbsuJeDz6ZF8J3mAv8VbLsCmBvrbxh4CvgeODb4LJ4Fpgbb2gE/AJcF28YF6+3jLPf7wTm6Ap9Hlxt4EPhTXf9fo6nqU51nQFPqTfg7+W/L2XYvMDNYnkRY0MPXPG0AhgXrq6k86N8etv2PwJth62cBi8LWywR94Bb8XUvzcvJ7NvBJ2Hq5eQr+gywCWoVt/x3wVFh5Z4VtOxLYXc51x4VfN2rbCuD0sPXTgNXBcjawm7AfXMBG4Lhg+W5gcrDcCtgJHBysfwGMCDuuEz6INwor5yFh239NEMSD9f2AfZQG/XjO1yVsey5wUbC8DBgbo+wXAu9HpT0O3FnOZ7UcGFXN72slcFrYtquoWdD/U/D3My7smCz8j53mYWnjgDnB8hVUHPT/FrbtdPyjDPDBPjcqfx8G54un3OGf2TXR5QbuCf0daWpYU0N5LicNy2agg5k1cs4VRm3rFGwP+Sa04JwrDqpPO1fhWt+FLe+Osd6yvAPNbDT+bnSIc253kJYF/BkYhg+KGfg7pHh0BrY453aEpa0Bwqvwvw1b3gU0K+dz6ooP7uVdZ03UNcI/s++jzreL0s/hOeADM/spcC7wsXMudK6DgZfNrDjs2CJ8YAr5Jmy5M5Hf3y4z+z5sezzni/48Qvksr/wHA0PMbGtYWiPgHzH2Bf/dtSpnW2XfV0T5wpfN7BL8jw3wP0JGl3ONcJfga6amhaUdjK+R2WBmobSMqOtWpLzPL/pvhGD9IKpe7ujzgP9Mt8ZIl3pOz/QlGT7E372cG55oZi3xz1jfDUvuGrY9A1+Nuj5IStoQkGbWG/+o4QLnXPh/cP8bXLefc641vtbCwrZXlKf1QDszCw8y3YDqNCL7Bijv9cL1+GARfo315ewbwTm3FP+f+GjgYvyPgPBrjnbOtQ2bmrnIRnDh5d+A/74A/ywYXwVflfOV5xv8Y5tY6f+OOmdL59xPyznPZ0CvcrZV9n1FlI+wv1Xn3LPBdVvGGfDB1wRsBp4Le2b/Df7fSoew8rR2ztX0lbjovxEoLVs85e4atS3aEcCnNcyj1AEFfUk459w2fEO+h8xslJk1Nt+g7gVgLZF3ZYPM7NygwdNN+P8A5wXbvqP8wFdt5hsavop/NDA3anMr/HPqbWZ2EP7Zcrhy8xT8ePgA+J2ZNTOz/sAE4J/VyOZ0oJOZ3WS+4V4rMxsSbJsC/MrMOppZB3w1e1Wu8Ry+huNE/DP9kL8A95jZwQDB+cdWcJ5pwFlBg7Em+KAW/gOpqucL9zfgLjPraV5/M2uP/1x6mdllwd9VYzM7xsyOKOc8M4CTYm2I4/t6AbjVzPYP/hauizPv5SkAzsc/u3/GzDKccxuAd4A/mlnroPHjoWYWM89VMAP/OV1sZo3M7EL846TpVSx3F+D68BObWTNgEDCzhnmUOqCgL0nhnPs9cBu+cdd24CP8Xc0I59zesF1fxT+nDTU6Otc5VxBs+x0+uG01s18mMHtH4xuI3W9hrfiDbb8Jtm8D3gBeijq2sjyNwz/PXY9voHWnc25WVTMYVL2eim+X8C3+2fTwYPPdwAL8Xexi4OMgLV5T8IFwtnMu/FHLn/GvY71jZjvwP76GxDg+lMcl+IAwFX93mI9vPxD6fqt0vih/wgefd/B/P0/in3vvAEYCF+E/42/xr4Y2Lec8rwOHm1l5j4wq+r5+i/+RugqYhf+RszfGOeLmnNuHrwHLAiYHtVuX4xtCLsX/O5iGfwxWk+t8D5yJbwj6PfA/wJlh33dF5f4NvjZoFf7zj350chaQ45yLq3ZJ6hdzLmk1qCIVMrNJ+EZJl9Z1XqTmgsc3W4GezrlVdZ2fEDO7Bt+6/6Yanuen+IaGNb0Lb9DM7CNggnPu87rOi1SdGvKJSLWZ2Vn4NhqGr9VZjG+hXm84556oznFm1gn/KOdDoCf+rvnhBGatQXLOxVtbI/VQpdX7wTOfXDP71HxnIr8J0nsEnUHkme9cpUmQ3jRYzwu2dw87161B+jIzOy0sfVSQlmdmE8PSY15DROqNsfgq4vX4wHiRS53qwyb4Fvo78J0RvYp/t12kwaq0et/8eyQtnHP5ZtYYmItvBPQL4CXn3FQz+wvwqXPuMTP7GdDfOXetmV0EnOOcu9DMjsQ/SzwW/0rILEpb1X6Ff365Ft+Zxjjn3FIzeyHWNRL8GYiIiKSFSu/0nRdq5NQ4mBxwMqXvmz6N78QE/C//p4PlacCI4IfDWHxvUXuD5315+B8AxwJ5zrmVQSOXqcDY4JjyriEiIiJVFFfrffP9YC/Ct8ydie80Y2tYByBr8Z0+EMy/AQi2b8O/u1uSHnVMeentK7hGdP6uMbMFwXRNPGUSERFJN3E15HN+eMgB5gceeRk4PKm5qqKgoc4TAB06dHCDBw9+vJJD4rZz505atGiRqNPVKZWl/kmVcoDKUl+lSllSpRyQ+LIsXLhws3OuYzz7Vqn1vnNuq5nNAYYCba20+9AulPbmtA7fm9PaoMOVNvj3REPpIeHHxEr/voJrlKt79+4sWLCgKsWqUE5ODtnZ2Qk7X11SWeqfVCkHqCz1VaqUJVXKAYkvi5nF6io5pnha73e00qFFm+Mb3H0BzMGPjgYwHt+yFXxnHOOD5fPwHYC4IP2ioHV/D3xL31x8w72eQUv9JvhON14LjinvGiIiIlJF8dzpdwKeNt9XdAbwgnNuuvlxlqea2d3AJ/geswjm/zCzPGALPojjnFsStMZfih/68+fBYwPM7Drgbfxwo5ODnr7Aj4AW6xoiIiJSRZUGfefcZ/gxq6PTV+Jb3ken78H3Lx3rXPfgh2SMTp+B7ys6rmuIiIhI1anvfRERkTShoC8iIpImFPRFRETShIK+iIhImlDQFxERSRMK+iIiImlCQV9ERCRNVKkbXhERkVThHBQWwt69pdOePZHrsdLC18OXi4vju+7XXx/Cm2/CpEnQvHlSi1iGgr6IiNS54mLYvRt27Yo9/+ij9nz7bWla+PbofeMJ3KE05+qitN0AuO02BX0REakniopgxw7Yvh22bfPzXbsqD6Z79/rgW1mADl/eu7ey3PSrjSKnPAV9EZE65hzs3Ak//FD5XeyuXT7QFhX5qbi4/HlxMXzzTS+eey4yLXq5qMhfPxTYQ/P8/Lr+ZCTRFPRFRJKgsBA2boRvv4XvvoNNm/z6xo2xl3fvTlZOOifrxCkhMxOaNoVmzfw8fKpqWmZmfNdcuXIFhxxyKM2aJbdssSjoi4hUwjl/hx1+J7xtG2ze7IN6rGnz5rp6XtxwNW8O++1Xdr7ffrBr12a6du1QJj16uXnzyMBcWeCON1AnUk7ON2RnH1r7F0ZBX0RSWFGRD8DffAPr1vnn09FV5bGqz9euHQBEVnXH2zI71bRqBa1bQ5s2ft6iRcV3vqH1Zs1iB+Xy0po1A7Py85GT8znZ2dm1Vu5UpaAvIvXCnj2+Gjx0p7xlC2RkQOPGfmrUqHQ5PM0MNmzwgT00rV3r5+vX+2r2qmub6OJVqkkTaN8eWrasODiGAmSjRv7zycyMPQ9NK1Z8xRFH9CpZL2+/Fi1KA3to3rJl3dwJS/Io6ItIjRUVwfbtjVi3rvy759Dytm2xq8O3bq3rUiRehw5w4IGQlQUHHOCnjh1jL7dqVfGdbnXl5KwnO7tX4k8sDZKCvojEpaAA1qyBvLyy08qVUFBwQl1nMamaNYu8C27TBvbf3wf1Tp38PHw64ABfGyFSnyjoi6S5oiJflR6rZfnGjT7QL18Oq1f7fRuadu2ga1c/7b9/xdXmoYZgeXmfcNJJA0sCfOvWvvpdpKFT0Bdp4IqK/LPrlSt9gN6xo+Lq9dByKNB//339aKSWmemrwUN3yh06+NbvBQV+KiwsXQ6fiop8NXkosIemLl381KJF1fOSk7ONgQMTX0aRuqagL9IAbNvmg/rKlbBqVeTy6tWwb19d5xBatCikTZtGFTZCa97cNw4LBffwavH27X2DMhFJHgV9kXro66/h3/+G997z8+XL6zpHXqdOcNhhZadDD4VPPpmrV6pE6jkFfZE65hysWBEZ5Nesqd087L9/+a3KQ4H+0EP9XbqINFwK+iK1LBTk330XXnjhCC6+2L9nXhPt28Mhh0CPHn65sk5RmjcvDfQdOqiRmki6UNAXqQXffQezZ8OsWT7Yl97JZ8V1fGamv9s+5JDS4B6+3Lp10rIuIilEQV8kCXbs8NX0777rA/3nn1ft+CZNYMgQOOkkOPFEGDpUVesiUnMK+iIJsGsXfPABzJnjp9zcqr3T3rw5HH98aZAfMoQ6GYFLRFKbgr5INezZA/PmlQb5efP8O+PxatoUfvQj6NFjJRMmHMKgQXquLlKrnPP/kCsbfWnXLr/f3r1lp+j0ODu8OHLjRt9K9qmnfCObWqSgLxKH77+Hzz6DuXN9kP/gA/9vPF4ZGTBoEIwYAaec4u/qmzeHnJyvGTr0kORlXCQVFBaSmZ/vh0rMz0/MtHNnnY19fEBo4a9/rfVrK+iLhNm3D7780gf4xYv9/LPPfI93VXX44T7IjxgB2dm+tbxI2tizx49JHD4+cWgevVxZgN6zh2F1XZ4UoaAvaW39enj+eViwwAf3L7+s7lCsviX98OF+ys6Ggw5KaFZFkquw0PfNvHmzr9oKTdHrO3fGrtoOX9+zp3707SxlKOhL2ikshLfe8jVrb7xR/UFkunUrDfLDh/t1kSorLvaDIHzzjZ9X9Hw5NN+zx//hFhX54yuYD9yyxT9LKm8Qg8JCX8WVn1/Xn0Tta9q04g4tQsvNmvl9mzaNXI5Oy8yM67JLliyhT58+/ty1TEFf0sbq1TB5sp/WravasY0bw5FHwlFH+db1w4f79+OTMf65pBDn/N3z11/7oB4+rV1bOq9KK9AqapO0M9ciM4qaNiWzbVv/7mpoatUqcr1lSz/CUqz0WPvFGaQTbVNOjq8OrAMK+pLS9u2D117zd/UzZ8bXbqdrV+jfH/r18/P+/aFXL42NLjEUF/uel9as8b8q16wpu7xzZ13nsm40akTJ2MTR8/DlVq0qD9LNm/P+e+9pbIcEUNCXlLN7t3+FbsYMeOYZX2NakX794PLL/bvxffuqwV1acq60invHDlouX+6rvcOfZ8d61r1+ff0Y4jARzPwff/v2furQoXQ5fGrdOnZVd/RyI4WX+kjfijR4O3b4V+hCg9Xk5lZeW9qiBVx0EVx9NRx7rKrpU45zsGkT5OWVTitX+hbj5bUQD2vBObi289u2LXTpAp07+zvb6GfM0cuhoJqR4afMzMh52PLHn33G0UOG+Kqqxo39caHl8LSWLeusultqj4K+NDg//AAffNCeN97wQf7jj+NvjDd4sA/0F12k/urrleJiH6TDn3Vv2uSDUUUNp5o29b/Y1qyJDPB5ef7XYH2w336+lWe3bv7ZUZcufh6aunTx1dtJsr24GI45Jmnnl4ZFQV8ajBUr4LbbYNo0KC7uF/dxrVvDpZf6YD9gQBIzKF5hoX+OXd4d9ZYtsRu1NdRq8jZtoHt3OPhgP0Uvt2+vqiSpNxT0pd77/nu4+2545JH4Gzn36OFb2Z96KpxzTq33dJnaiopg1So/itCSJSXT8WvWlL6j3RA1blzScCy/cWNadusW+Sw71jPurCwf9EUaCAV9qbf27oWHH/YBf+vWivft3dsH+dCANV271k4eU9quXf7dxmXLfGAPBfkvvogZ2Ovd0AEtWvjxiEPToYf6IF1eC/GwwQ8W5OSopbikpEqDvpl1BZ7BD/ztgCecc382s0nA1cCmYNfbnHMzgmNuBSYARcANzrm3g/RRwJ+BTOBvzrl7g/QewFSgPbAQuMw5t8/MmgbXHgR8D1zonFudgHJLPeac7yXv1lv9m0+xdO26izFj9uOkk2DYMDjwwFrNYsMU1UKd777zrc/Xr/fBPXq+bVvt5q9168hn3Qce6J/1lze4SWjat883gDvsMOjZszTIZ2WpWl0kSjx3+oXAfzvnPjazVsBCM5sZbLvfOXdf+M5mdiRwEdAH6AzMMrNeweZHgFOBtcB8M3vNObcU+L/gXFPN7C/4HwyPBfMfnHOHmdlFwX4X1qTAUr+9/z788pe+BX4s3brB734HBx6Yy8knZ9dizuqpHTvgq69Kp7y8si3Ud+yI2UI9qSrqPKV1a99HcXRjNrWsFEm6SoO+c24DsCFY3mFmXwAV9So+FpjqnNsLrDKzPODYYFuec24lgJlNBcYG5zsZuDjY52lgEj7ojw2WAaYBD5uZOVdHQyNJ0ixfDrfcAi+/HHt769Zw++1www2+4XZOTq1mr24VF/tWjMuW+cAePt+woW7y1KED9Onjp759oU8fPti4keNHj/avlmVk1E2+RKRCVpX4aWbdgfeAvsAvgCuA7cACfG3AD2b2MDDPOffP4JgngTeDU4xyzl0VpF8GDMEH9XnOucOC9K7Am865vmb2eXDM2mDbCmCIc25zVL6uAa4ByMrKGjR16tSqfQoVyM/Pp2XLlgk7X12qj2UpLoaXXz6IJ544hH37yr4jnJlZzJgx6xk/fg1t2pS24quPZamO8sqRuXMn+y9YQPt582iXm0vTLVtqPW/FmZns69CBPQccwK7u3dnZvTs7e/RgZ/fuFMTowShVvhNQWeqjVCkHJL4sw4cPX+ici6t7ibgb8plZS+BF4Cbn3HYzewy4C/+c/y7gj8BPqpHfGnPOPQE8ATB48GCXyAY4OSnUoKe+lWXtWrjySpg1K/b2c86Be+/NoFevLkCXiG31rSzVVVIO5/wQf2+84bsSfP/95FTFhzphadnStz4/6CD/PDzGPKNDB5plZNAMaFuVsqQAlaX+SZVyQN2WJa6gb2aN8QH/WefcSwDOue/Ctv8VmB6srgPC2053CdIoJ/17oK2ZNXLOFUbtHzrXWjNrhB874vu4Syf11tSp8NOfxm6Vf8wx8Mc/+gZ6KW33btp99JHveGDGDP8aXFU1auTH9O3Vy7/C0KuXbwAXa3CRUAt1NW4TSVvxtN434EngC+fcn8LSOwXP+wHOAT4Pll8DnjOzP+Eb8vUEcgEDegYt9dfhG/td7JxzZjYHOA/fgn888GrYucYDHwbbZ+t5fsP2ww/ws5/5oB+tdWt48EG47LIUfiS8Zk3p3fzs2fTfvTu+41q2hKOP9oE9FNx79/YdEmgkIBGJUzx3+j8CLgMWm9miIO02YJyZDcBX768G/gvAObfEzF4AluJb/v/cOVcEYGbXAW/jX9mb7JxbEpzvFmCqmd0NfIL/kUEw/0fQGHAL/oeCNFCzZsEVV8Qe1nb4cHjqqRQck76gwA8M8MYbflq6NP5je/eG00+HM86AE07wXc6KiNRAPK335+Lv0qPNqOCYe4B7YqTPiHVc0KL/2Bjpe4DzK8uj1G+7d8PEif4uPlrTpv4VvBtvTKG7++++gzff9Hfz77wT//vuTZv6MbbPOMMH+0MPTWo2RST9qEc+SaqFC32/919+WXbbUUfBP//p3/hq0AoK/Fi+b73lp48/jvvQPQccQLNzz/VB/uST/bN3EZEkUdCXpCgqgt//Hn7967KN0M38O/mTJjXgGutvvikN8rNmwfbt8R2XmQk/+lFJtf28TZvIHj48uXkVEQko6EvCrV7tG+PNnVt2W/fu8I9/+EfUDcr33/tuAt9911fdV+XZfMeOMHq0r7Y/9VQIf8c9rXoZEpG6pqAvCeMcPPss/PznsW98J0yA++9P6tDhibFjh6+inz+/dKrK63RmMGhQaSO8wYNTqMGCiDRkCvqSED/84N+7f/75stvat4e//Q3OPrv281Up52DRIvjPf2DBAh/gv/jCp1dFx45w2mkwahSMHOnXRUTqGQV9qbE5c+Dyy30Pe9FGjYLJk6FTp9rPV4X27PGdBTz4IHzySdWPz8iAoUN9tf2oUTBwoO7mRaTeU9CXEtu2wQMP+Pfou3cvHan00ENjD4C2dy/86le+97zoG+NmzeAPf/BV/fWqA7j16+Gxx+Dxx2HTpsr3D8nMhH794Nhj/XP5ESMin82LiDQACvoC+EfWp58e+9U6gAMOKB2m/LDD/GioDzwAn35adt8BA/yz/SOPTG6eqyQ3F/78Z3jhhfj6tO/d2/cHHJoGDPCjx4mINGAK+kJuLpx1FmzcWP4+Gzf66YMPyt/HDG6+Ge66y3fxXucKCny/9n/+M3z0Ufn7mfkq+pNO8gF+0CBo06b28ikiUksU9NPcyy/DJZf4XvNqomtXeOYZ36Fcndq6FWbPhpkz4dVXKx5vvnVr/0rBddf5QWtERFKcgn6acs6/PvfLX5Z9Hn/WWX4cl7w8P61cWXGN+Lhx8Oij0Dae8VcTraDAV1W8846fcnOhuLjiY3r1ghtugPHj/UA2IiJpQkE/DRUW+r7uH3207LaJE+GeeyIbohcW+g7oQj8C8vJg+XLfkG/CBLjggtrLOwB5eXR+5RXfqGD2bP9efTxGj/bBfuRItbQXkbSkoJ9m8vPhoov8gG/hMjN9o/arry57TKNG/s6/Rw/fcL3OLF4M/+//wbvv0iveY1q08EP7XX+9b5wnIpLGFPTTyObNTTjxxLKvpbdq5du7jRxZN/mq1JYtvhP/xx6rvOoeoE8fX5iRI+HEE2G//ZKfRxGRBkBBP00sXgw/+9nRZV5N79rV3/X361c3+apQYSE88QTccYcP/OXp2NFXQYwcCaecAgcdVHt5FBFpQBT0G7A9e+Dtt/079vn5FU/Ll8OuXc0ijh84EKZPh86d66gAFcnJ8Q0PPvss5uZtffrQ5vLLfaDv31/P6EVE4qCg30AVFfnOdObMqd7xZ54JU6bUw8bra9b4l/3/9a/Y2w85BP70Jz5p3VpD0oqIVJFujxqomTOrH/Cvuw5eeaWeBfxdu2DSJDj88NgBv0UL+N//hSVLYOzYeta3r4hIw6A7/QbqqaeqfkybNvu4++4m9a8//I8+gosv9h0CxHLppXDvvXpWLyJSQwr6DdAPP/g79XDXXgvduvm79+ipVSs/X7nyQ0aOPKluMh1LcTHcdx/cfnvs3n8GDfKj4B1/fO3nTUQkBSnoN0DPP+87xgnp0QMeeaTytmxr11ZxjPhk+u47Px7vO++U3XbAAb4q/8or1UBPRCSBFPQboKefjlwfP76BxcaZM+Gyy3zgj/azn/mArwFvREQSriGFCsEPfTtvXmTa5ZfXTV6qrKDA9/M7cmTZgN+unX9m8cgjCvgiIkmiO/0GJvouPzvbV+/Xe6tW+cZ60b9YAIYNg2ef9T0FiYhI0uhOvwEpKvLD14a74oo6yUrV/Otfvieg6ICfkeG71509WwFfRKQW6E6/AZk1C9avL11v0QJ+/OO6y0+ldu3yA+Q88UTZbZ07+7v77Oxaz5aISLrSnX4NffstnHaafwx9/fVlx6ZPpOh3888/v551sBNuyRI49tjYAf/MM+HTTxXwRURqmYJ+Dezc6ePXO+/A9u3w8MOx30BLhK1b4eWXI9PqZdW+c/D44zB4sA/84Zo0gT//GV57DTp0qJv8iYikMQX9aioqgksugYULI9Nnz07O9WK9mz9sWHKuVW1bt8IFF/iegvbsidzWsyd8+CHccEPDcriIAAAgAElEQVQ96w5QRCR9KOhX0803w6uvlk2fPz8514uu2q937+Z/+CEMGADTppXddvnl/tfR0UfXfr5ERKREfQobDcajj8L998fetmCB7102ker1u/nFxb5f/GHD/Ah54Vq08K8bPP207wtYRETqlFrvV9GMGb7BXnl27IBly+CIIxJ3zVp7N3/JEvjlL2HdOj+Ebe/e0KtX6bxjx8iq+W+/9T3rzZpV9lwDB8LUqf44ERGpFxT0q+DTT+HCCyPv5Fu08APdfPFFaVpubuKCfq29m//eezBmDGzb5tcXLy67T9u2Poj36gUHHwx//Sts3Fh2v5tu8nf/TZsmIaMiIlJdCvpxWr/et9TPzy9Ny8jwN7O5uXDXXaXp8+f7Z+6JUCvv5r/0ku8tL7ylYCxbt/rC5ubG3t6+vW98cOaZCc6giIgkgoJ+HPLzfRxbuzYy/f77fXr0u/nlxcTqSPq7+Y89Bj//ec07GDjpJN/Zjsa8FxGptxT0K1FU5G+CP/kkMv366/3bZwDHHBO57dNP/U1zTWu3k/puvnNw552RVRQhd9zhX7H76is/LVvm57t3l903I8Of5/bbITMzQZkTEZFkUNCvxGOPHcbrr0emnXlmZOv9Aw/0Xcd/841f37cPPvus7I+Bqkrau/mFhX4I27/+NTI9M9OnXXll2WOKi30Dv9CPgGXLfOauvBKGDElApkREJNkU9Cvw0EPw4otdItIGDoQpU8re1B5zTGnQB/9cv6ZBPynv5u/eDePGle1koHlzeOGF8p/HZ2T4XzZdu8KIETXMhIiI1IVKQ4iZdTWzOWa21MyWmNmNQXo7M5tpZsuD+f5BupnZg2aWZ2afmdnRYecaH+y/3MzGh6UPMrPFwTEPmvn3wsq7Rm144w3fCD3cQQfB66/HfqZ+7LGR6zV9rp+Md/Mbbd8Op55aNuC3awfvvqsGeCIiKS6e+8ZC4L+dc0cCxwE/N7MjgYnAu865nsC7wTrAaKBnMF0DPAY+gAN3AkOAY4E7w4L4Y8DVYceNCtLLu0ZSLVoU+9W86dPLb6cWfVdf0575Ev5u/jffMPCGG+A//4lM79YN5s6FoUNrcHIREWkIKq3ed85tADYEyzvM7AvgIGAskB3s9jSQA9wSpD/jnHPAPDNra2adgn1nOue2AJjZTGCUmeUArZ1z84L0Z4CzgTcruEZSNW8OWVmwcqVfz8jwz9cHDCj/mEGDfL81oUbwX3zhO+qpTkd0VXo3f9kyWLXKv2JQ0fT++7QIf/cPoG9feOsttbgXEUkTVXqmb2bdgYHAR0BW8IMA4FsgK1g+CAh7us3aIK2i9LUx0qngGknVu7evWh871ncp/+CDcMYZFR/Tpo0/7ssv/bpzvrv56oweG9e7+c7B1VfDk09W/QLgWwS+9prvcEdERNJC3EHfzFoCLwI3Oee2W1h3rM45Z2ZJHEm+4muY2TX4RwlkZWWRk5OTkGtOmpTB22+3ok+fbcRzym7dDufLLw8sWZ86dQWRv3Pi8/vfH0H475thwzawYMGyiH1aL13K0dUM+JuGDeOL22+neNGiah1fH+Tn5yfse65LqVIOUFnqq1QpS6qUA+q4LM65SiegMfA28IuwtGVAp2C5E7AsWH4cGBe9HzAOeDws/fEgrRPwZVh6yX7lXaOiadCgQS6R5syZE/e+Dz3knL8F99N551X9ej/84FzTppHnycmJseO110buFMdUnJHh3PXXO1dYWPWM1TNV+V7qs1Qph3MqS32VKmVJlXI4l/iyAAtcHLHcOVf5nX7Qkv5J4Avn3J/CNr0GjAfuDeavhqVfZ2ZT8Y32tjnnNpjZ28D/hjXeGwnc6pzbYmbbzew4/GODy4GHKrlGvZSIxnyvvBLHu/l79/r+f8ONGOGfzbdsWe40b/duhl5wQdUzJSIiKSGe6v0fAZcBi80sVB98Gz4Qv2BmE4A1QCiazABOB/KAXcCVAEFwvwsIhcLfuqBRH/Az4CmgOb4B35tBennXqJeOOgoaN4aCAr++Zo0fj+aAA+I/R3QPfJdcEuPd/Ndf9931hXTo4If/a9KkwnPvTZGqMRERqZ54Wu/PBayczWV6aQmqGn5ezrkmA5NjpC8A+sZI/z7WNeqrZs2gf3/fgC9k/vzKGwGG5OfD229Hpp17bowdo9/nGzeu0oAvIiJS0/7dJEpNOul5663Iqv3u3WO8JrhxI7z5ZmRaoob0ExGRlKagn2A1ea4fXbV/zjn+3f8Izz3nX+QP6dMHjj4aERGRyijoJ1j0nf78+fGNWrtvn+/xL9w558TYMbrXnssvj/HLQEREpCwF/QQ7/HDfmU7I5s2wenXlx82eDdu3l64fcAAcf3zUTosXR47xm5EBl15ak+yKiEgaUdCvKed8w7qf/hT+/W8yM2Hw4Mhd4qnij67aHzs2xvD00Q34TjkFOneucpZFRCQ9KejX1K23+o7x//IXH4Tz8so816+sMV9RUdmB78pU7RcWwrPPRqapAZ+IiFSBgn5NPPkk/N//la4XFsJLL1W5Md+HH8J335Wut24NJ58ctdPMmfDtt6XrrVrB2WdXK9siIpKeFPSra/ZsuPbasunz55dpzLdwYWSD+2jRVftnnAFNm0btFN2A7/zzYb/94s6uiIiIgn51fPmlH/ausLDsttxcDj7Yd5IXsnOnH2o3Fudiv6oXYds23z9vOFXti4hIFSnoV9Xmzf5WPLwb3HBff41t2hh3Jz2ffgqrVpWuN20Ko0dH7fTCC7BnT+l69+5wwglVzbmIiKQ5Bf2q2LvXP0dfuTIyvVmzyPX58+N+rh99lz9ypB8fJ0Ksd/PLdMgvIiJSMUWOeDkHEybAf/4TmT5hgm+9Hy7Gc/14g36ZvvZXrIC5cyPTLr88nhyLiIhEUNCP1113lX1l7uST4dFHY/a9G5306aeRNfQAeXm+v52QzEw466yo60bf5f/oR3DooVXOvoiIiIJ+PJ57Du68MzKtd2+YNs2Pbhfjtr5jB0f37qVJhYU+8IeLvss/8URo3z4sobi4bNBXAz4REakmBf1KtF68GK68MjKxfXt44w3Yf3+/fsQRkX3vbtoEX39daSc9lVbtz50b2Ydv06b+VT0REZFqUNCvyMqV9L3jDj8aTkiTJv71ufAq9szMsiPd5eZW2Jhv/XrfKU+4Mn3tRN/ln302tG1bpSKIiIiEKOiXZ+tWOOMMmmzbFpk+eXLs1+ViRPiKXtuL7nb3mGOgS5ewhF27/Kt64VS1LyIiNaCgH0tBAZx3nu+EJ9ydd8Ill8Q+JkbQP/royFFvly3z/exAHFX7r7wCO3aUrh94IJx6atxFEBERiaagH8trr8G770amjRtXtjFfuOigv3AhrVoUc+SRkckLFsAPP8CcOZHpZXrhi67av+QSaNSo0qyLiIiUR0E/lh//GJ54onRs2+OP99X64bft0Q45BNq1K13fsQOWLYv5XH/69MgefI84wr8MUGL9ej/ATji9my8iIjWkoF+eq6+Gt95iR8+evqo9ute9aGYweHBkWjmd9FRatf/ss/51vZABA6B//yplX0REJJqCfkVOOYWFf/kLdOwY3/4xInz0nf5//gNvvRWZFlG17xw8/XTkDmrAJyIiCaCgX5mq9HEf48X8/v39W34h330Hu3eXrnfrFvW236JFsGRJ6Xpmpm9PICIiUkMK+okUHfQXLaIJ+xgwoPxDzjknqqnAtGmRO4waBVlZCcuiiIikLwX9ROrUCQ46qHR93z5YvLjMb4FwZVrtRz/wv/DChGVPRETSm4J+osXRSU9Ihw5R/fwsWwZffFG63qgRnHlmwrMoIiLpSUE/0eIYcS9k7NjStwKBsnf52dml/fuLiIjUkIJ+osUI+r17Q6tWZXettGq/zA4iIiLVp6CfaNHv6i9ZQsbunWWSW7aEESPCEtatKzsM39ixScmiiIikJwX9RNt/f+jZs3S9uBg+/rjMc/0zzojq7+eVVyJ3GDIkslGgiIhIDSnoJ0OMKv4rrijtOj8zE268MeoYVe2LiEiSKegnQ4ygf/jh8MEH8Otfw+zZMHRo2PYtWyAnJ/IYBX0REUkwDduWDLFG2QmSY7bknz4diopK1/v0gV69kpc/ERFJS7rTT4aBAyPfxVuxwt/Nl+ellyLXdZcvIiJJoKCfDPvt5+/Wwy1YEHvfnTvh7bcj0xT0RUQkCRT0k6WcKv4y3n4b9uwpXT/4YF9TICIikmAK+skSY5jdmKJb7Z99dtQIPCIiIomhoJ8sMYbZLaOgwDfiC6eqfRERSRIF/WTp2zey950NG3yve+FycmDr1tL1MiPwiIiIJE6lQd/MJpvZRjP7PCxtkpmtM7NFwXR62LZbzSzPzJaZ2Wlh6aOCtDwzmxiW3sPMPgrSnzezJkF602A9L9jePVGFrhWNG8OAAZFp0VX80VX7Y8ZEjcAjIiKSOPHc6T8FjIqRfr9zbkAwzQAwsyOBi4A+wTGPmlmmmWUCjwCjgSOBccG+AP8XnOsw4AdgQpA+AfghSL8/2K9hqagxX3Fx2a53zz03+XkSEZG0VWnQd869B1TwknmEscBU59xe59wqIA84NpjynHMrnXP7gKnAWDMz4GRgWnD808DZYed6OlieBowI9m84Kgr6ubm+yj+kzAg8IiIiiVWTHvmuM7PLgQXAfzvnfgAOAuaF7bM2SAP4Jip9CNAe2OqcK4yx/0GhY5xzhWa2Ldh/c3RGzOwa4BqArKwscqK7tK2B/Pz8ap9vP+cIb8NfMG8e/5kzB8w45PHH6Ra2bePgwSydNy/6FAlVk7LUN6lSllQpB6gs9VWqlCVVygF1XBbnXKUT0B34PGw9C8jE1xTcA0wO0h8GLg3b70ngvGD6W1j6ZcG+HfA1AKH0rqHrAJ8DXcK2rQA6VJbXQYMGuUSaM2dO9Q8uKnKudWvnoHRavty54mLnDjssMn3KlITluTw1Kks9kyplSZVyOKey1FepUpZUKYdziS8LsMDFEcudc9Vrve+c+845V+ScKwb+CiU3tOuCwB3SJUgrL/17oK2ZNYpKjzhXsL1NsH/DkZEBgwdHpuXmwpIlkJdXmtakCZx+OiIiIslUraBvZp3CVs/B35UDvAZcFLS87wH0BHKB+UDPoKV+E3xjv9eCXyhz8DUBAOOBV8PONT5YPg+YHezfsMR6rh/dan/ECGjduvbyJCIiaanSZ/pmNgXIBjqY2VrgTiDbzAYADlgN/BeAc26Jmb0ALAUKgZ8754qC81wHvI1/LDDZObckuMQtwFQzuxv4BP9IgGD+DzPLwzckvKjGpa0LsYL+rl2RaeqQR0REakGlQd85Ny5G8pMx0kL734N/zh+dPgOYESN9JXBsjPQ9wPmV5a/ei9UzX0FB6bqZfz9fREQkydQjX7J17QoHHFC6Hh7wwffAl5VVu3kSEZG0pKCfbGZl7/bDqWpfRERqiYJ+bVDQFxGRekBBvzaUF/QHDIDu3Ws1KyIikr4U9GtDeUFfd/kiIlKLFPRrQ8eOse/oFfRFRKQWKejXlui7/UMPhb596yYvIiKSlhT0a8sJJ0Su//jHvmW/iIhILVHQry1XXQX9+/vlww6DiRPrNj8iIpJ2ajK0rlTFfvvBokWwYgUccogfjEdERKQWKejXJjN/ly8iIlIHdLspIiKSJhT0RURE0oSCvoiISJpQ0BcREUkTasgnkkBFRUVs2bKFgughlMvRunVr1q9fn+Rc1Y6GVpbGjRvTrl07MjMz6zorIrVGQV8kgbZs2UKzZs3o0KEDFkfnS/v27aNz5861kLPka0hlcc6Rn5/Pli1b6NixY11nR6TWqHpfJIEKCgpo2bJlXAFf6o6Z0bJly7hrZERShYK+SIIp4DcM+p4kHSnoi6SYli1bJvyckyZN4r777iuTfvzxxwOQk5PDhAkT4j5fTk4OZ555JgCvvfYa9957LwBXXHEF06ZNS0COIyXrvCINjZ7pi0i1ffDBBzU+x5gxYxgzZkwCciMildGdvkgymMU1de/RI+59I6YqWr16NSeffDL9+/dnxIgRfP311wCsWLGC4447jn79+vGrX/2qyrUEsfafP38+AwcOZMWKFezcuZOf/OQnHHvssQwcOJBXX321zP5PPfUU1113Xcn6e++9x/HHH88hhxxScnfunOPmm2+mb9++9OvXj+eff77S9Ouuu47evXtzyimnsHHjxiqVSyRVKeiLpIHrr7+e8ePH89lnn3HJJZdwww03AHDjjTdy4403snjxYrp06VLj63zwwQdce+21vPrqqxx66KHcc889nHzyyeTm5jJnzhxuvvlmdu7cWeE5NmzYwNy5c5k+fToTg9EoX3rpJRYtWsSnn37KrFmzuPnmm9mwYUO56S+//DLLli1j6dKlPPPMMwmpkRBJBQr6Imngww8/5OKLLwbgsssuY+7cuSXp559/PkDJ9urKy8vjmmuu4fXXX6dbt24AvPPOO9x7770MGDCA7Oxs9uzZU1LLUJ6zzz6bjIwMjjzySL777jsA5s6dy7hx48jMzCQrK4uTTjqJ+fPnl5v+3nvvlaR37tyZk08+uUZlE0kVeqYvImXcfvvtvPHGGwAsWrQormMOOOAAnHN88sknJe/rO+d48cUX6d27d8S+oWAeS9OmTUuWnXNVzbqIVEB3+iLJ4Fxc0+pVq+LeN2KqouOPP56pU6cC8OyzzzJs2DAAjjvuOF588UWAku0A99xzD4sWLYo74IPvke+NN97g1ltvJScnB4DTTjuNhx56qCR4f/LJJ1XOO8CwYcN4/vnnKSoqYtOmTbz33nsce+yx5aafeOKJJekbNmxgzpw51bquSKrRnb5Iitm1a1fE8/lf/OIXPPTQQ1x55ZX84Q9/oGPHjvz9738H4IEHHuDSSy/lnnvuYdSoUbRp06bc895999088MADJetr164ts09WVhbTp09n9OjRTJ48mTvuuIObbrqJ/v37U1xcTI8ePZg+fXqVy3TOOefw4YcfctRRR2Fm/P73v+fAAw+sMH327NkceeSRdOvWjaFDh1b5miIpyTmXUtOgQYNcIs2ZMyeh56tLKkvyrVu3rkr7r1q1KjkZidPOnTtdcXGxc865KVOmuDFjxlT7XHVdluoo7/uqr39f1ZEqZUmVcjiX+LIAC1ycMVJ3+iJpbOHChVx33XU452jbti2TJ0+u6yyJSBIp6IuksWHDhvHpp5/WdTZEpJaoIZ+IiEiaUNAXERFJEwr6IiIiaUJBX0REJE0o6IukoFdeeQUz48svvwT8gDvPPfdcyfZFixYxY8aMap+/e/fubN68ucb5jFdN8ysinoK+SAqaMmUKJ5xwAlOmTAESH/RrW0PLr0h9pVf2RJLAflP14W+rwt1Zfle8+fn5zJ07lzlz5nDWWWfxm9/8hokTJ/LFF18wYMAAxo0bxyOPPMLu3buZO3cut956Kz169ODGG29kz549NG/enL///e/07t2boqIibrnlFt566y0yMjK4+uqruf766wF46KGHeP311ykoKOBf//oXzZo1Y9KkSaxatYqVK1fy9ddfc//99zNv3jzefPNNDjroIF5//XUaN27MwoUL+cUvfkF+fj4dOnTgqaeeolOnTmRnZzNkyBDmzJnD1q1befLJJxkyZAi//vWvI/J74YUXJvXzFUlVCvoiKebVV19l1KhR9OrVi/bt27Nw4ULuvfde7rvvvpIucLOysliwYAEPP/wwANu3b+f999+nUaNGzJo1i9tuu40XX3yRJ554gtWrV7No0SIaNWrEli1bSq7ToUMHPv74Yx599FHuu+8+fvWrXwGwYsUK5syZw9KlSxk6dCgvvvgiv//97znnnHN44403OOOMM7j++ut59dVX6dixI88//zy33357ScdAhYWF5ObmMmPGDH7zm98wa9Ysfvvb30bkV0SqR0FfJMVMmTKFG2+8EYCLLrqIKVOmcOaZZ1Z4zLZt2xg/fjzLly/HzCgoKABg1qxZXHvttTRq5P+raNeuXckx5557LgCDBg3ipZdeKkkfPXo0jRs3pl+/fhQVFTFq1CgA+vXrx+rVq1m2bBmff/45p556KgBFRUV06tQp5nlXr15dk49CRKJUGvTNbDJwJrDROdc3SGsHPA90B1YDFzjnfjAzA/4MnA7sAq5wzn0cHDMe+FVw2rudc08H6YOAp4DmwAzgRuecK+8aNS6xSArbsmULs2fPZvHixZgZRUVFmBlnnHFGhcfdcccdDB8+nJdffpnVq1eTnZ1d6bVCQ+BmZmZSWFhYJj0jI4PGjRvj/1vw64WFhTjn6NOnDx9++GGVzisiNRfPnf5TwMPAM2FpE4F3nXP3mtnEYP0WYDTQM5iGAI8BQ4IAficwGHDAQjN7LQjijwFXAx/hg/4o4M0KriFS71X0zD3c6tWr6d69e8KuO23aNC677DIef/zxkrSTTjqJjIwMduzYUZLWqlWriPVt27Zx0EEHAfDUU0+VpJ966qk8/vjjDB8+vKR6P/xuvzp69+7Npk2b+PDDDxk6dCgFBQV89dVX9OnTp9xjovMrItVTaet959x7wJao5LHA08Hy08DZYenPBAP/zAPamlkn4DRgpnNuSxDoZwKjgm2tnXPzgpGCnok6V6xriEg5pkyZwjnnnBOR9uMf/5ipU6eSmZnJUUcdxf3338/w4cNZunQpAwYM4Pnnn+d//ud/uPXWWxk4cGDE3fVVV11Ft27d6N+/P0cddVTEGwDV1aRJE6ZNm8Ytt9zCUUcdxYABA/jggw8qPCY6vyJSPeZjbSU7mXUHpodV7291zrUNlg34wTnX1symA/c65+YG297F351nA82cc3cH6XcAu4GcYP9TgvRhwC3OuTPLu0Y5+bsGuAYgKytr0NSpU6vxUcSWn59Py5YtE3a+uqSyJF/r1q2rdCe8b98+mjRpksQc1Z6GWJYtW7awffv2Mun19e+rOlKlLKlSDkh8WYYPH77QOTc4nn1r3JAveP4eX11mkq7hnHsCeAJg8ODBLp7nkfHKycmJ6/lmQ6CyJN/69evp3Llz3Psnunq/LjXEsjRp0oSjjz66THp9/fuqjlQpS6qUA+q2LNXtnOe7oGqeYL4xSF8HdA3br0uQVlF6lxjpFV1DREREqqG6Qf81YHywPB54NSz9cvOOA7Y55zYAbwMjzWx/M9sfGAm8HWzbbmbHBVX4l0edK9Y1REREpBrieWVvCv6ZfAczW4tvhX8v8IKZTQDWABcEu8/Av66Xh39l70oA59wWM7sLmB/s91vnXKhx4M8ofWXvzWCigmuIiIhINVQa9J1z48rZNCLGvg74eTnnmQxMjpG+AOgbI/37WNcQERGR6tGAOyIiImlCQV8kxWRmZjJgwAD69u3LWWedxdatWxN+jZycnEq79o22fv16zjvvPECj5onUFQV9kRTTvHlzFi1axOeff067du145JFH6jpLFBYW0rlzZ6ZNmwYo6IvUFQV9kSQwi2/q0aN73PuGT/EaOnQo69atK1n/wx/+wDHHHEP//v258847S9LvuusuevfuzQknnMC4ceO47777AMjOzmbBggUAbN68OeZ7+Lm5uQwdOpQzzjiD448/nmXLlgG+O98xY8Zw8sknM2LECFavXk3fvn3Zt28fv/71r3n++edLetjr2bMnmzZtAqC4uJjDDjusZF1EEkej7ImkqKKiIt59910mTJgAwDvvvMPy5cvJzc3FOceYMWN47733aN68OS+++CKffvopBQUFHH300QwaNCju6xx++OG8//77rF27lry8vJJheQE+/vhjPvvsM9q1a1cyYl6TJk3KDJX75Zdf8uyzz3LTTTcxa9YsjjrqKDp27JjYD0REFPRFUs3u3bsZMGAA69at44gjjigZwvadd97hnXfeYeDAgYDvCnT58uXs2LGDsWPH0qxZM5o1a8ZZZ51VpeuFhuVdunQpTZo0KRmWF/yAPfF0S/yTn/yEsWPHctNNNzF58mSuvPLKKuVBROKj6n2RFBN6pr9mzRqccyXP9J1z3HrrrSxatIhFixaRl5dXUgtQnkaNGlFcXAzAnj17Yu4TGpb37bff5vXXX4/Yr0WLFnHluWvXrmRlZTF79mxyc3MZPXp0XMeJSNUo6IskgXPxTatWrY573/ApHvvttx8PPvggf/zjHyksLOS0005j8uTJ5OfnA7Bu3To2btzIj370o5JgnZ+fz/Tp00vO0b17dxYuXAhQ0ggvWnnD8lYk1lC5V111FZdeeinnn38+mZmZ8RVSRKpEQV8khQ0cOJD+/fszZcoURo4cycUXX8zQoUPp168f5513Hjt27OCYY45hzJgx9O/fn9GjR9OvXz/atGkDwC9/+Usee+wxBg4cyObNm2NeIzQs7xlnnBExLG9FYg2VO2bMGPLz81W1L5JMzrmUmgYNGuQSac6cOQk9X11SWZJv3bp1Vdp/1apVyclIFe3YscM559zOnTvdoEGD3MKFC6t8jpqWZf78+e6EE06o0Tmqqrzvq77+fVVHqpQlVcrhXOLLAixwccZINeQTEa655hqWLl3Knj17GD9+fMzhZpPp3nvv5bHHHuPZZ5+t1euKpBsFfRHhueeeq9PrT5w4kYkTJ9ZpHkTSgZ7pi4iIpAkFfZEEc/E2r5c6pe9J0pGCvkgCNW7cmPz8fAWUes45R35+Po0bN67rrIjUKj3TF0mgdu3asWXLljLvoJdny5YtNGnSJMm5qh0NrSyNGzeOq7dAkVSioC+SQJmZmVXqM/6rr76q9ZbyyZJKZRFJVareFxERSRMK+iIiImlCQV9ERCRNKOiLiIikCQV9ERGRNKGgLyIikiYU9EVERNKEgr6IiEiaUNAXERFJEwr6IiIiaUJBX0REJE0o6IuIiKQJBX0REZE0oaAvIiKSJhT0RURE0oSCvoiISJpQ0BcREUkTCvoiIiJpQkFfREQkTSjoi4iIpAkFfRERkTRRo6BvZqvNbLGZLTKzBe217nYAABBhSURBVEFaOzObaWbLg/n+QbqZ2YNmlmdmn5nZ0WHnGR/sv9zMxoelDwrOnxccazXJr4iISDpLxJ3+cOfcAOfc4GB9IvCuc64n8G6wDjAa6BlM1wCPgf+RANwJDAGOBe4M/VAI9rk67LhRCciviIhIWkpG9f5Y4Olg+Wng7LD0Z5w3D2hrZp2A04CZzrktzrkfgJnAqGBba+fcPOecA54JO5eIiIhUUU2DvgPeMbOFZnZNkJblnNsQLH8LZAXLBwHfhB27NkirKH1tjHQRERGphkY1PP4E59w6MzsAmGlmX4ZvdM45M3M1vEalgh8c1wBkZWWRk5OTsHPn5+cn9Hx1SWWpf1KlHKCy1FepUpZUKQfUbVlqFPSdc+uC+UYzexn/TP47M+vknNsQVNFvDHZfB3QNO7xLkLYOyI5KzwnSu8TYP1Y+ngCeABg8eLDLzs6OtVu15OTkkMjz1SWVpf5JlXKAylJfpUpZUqUcULdlqXb1vpm1MLNWoWVgJPA58BoQaoE/Hng1WH4NuDxoxX8csC14DPA2MNLM9g8a8I0E3g62bTez44JW+5eHnUtERESqqCZ3+lnAy8FbdI2A55xzb5nZfOAFM5sArAEuCPafAZwO5AG7gCsBnHNbzOwuYH6w32+dc1uC5Z8BTwHNgTeDSURERKqh2kHfObcSOCpG+vfAiBjpDvh5OeeaDEyOkb4A6FvdPIqIiEgp9cgnIiKSJhT0RURE0oSCvoiISJpQ0BcREUkTCvoiIiJpQkFfREQkTSjoi4iIpAkFfRERkTShoC8iIpImFPRFRETShIK+iIhImlDQFxERSRMK+iIiImlCQV9ERCRNKOiLiIikCQV9ERGRNKGgLyIikiYU9EVERNKEgr6IiEiaUNAXERFJEwr6IiIiaUJBX0REJE0o6IuIiKQJBX0REZE0oaAvIiKSJhT0RURE0oSCvoiISJpQ0BcREUkTCvoiIiJpQkFfREQkTSjoi4iIpAkFfRERkTShoC8iIpImFPRFRETShIK+iIhImlDQFxERSRMK+iIiImlCQV9ERCRNKOiLiIikiXof9M1slJktM7M8M5tY1/kRERFpqOp10DezTOARYDRwJDDOzI6s21yJiIg0TPU66APHAnnOuZXOuX3AVGBsHedJRESkQTLnXF3noVxmdh4wyjl3VbB+GTDEOXdd1H7XANcAZGVlDZo6dWrC8pCfn0/Lli0Tdr66pLLUP6lSDlBZ6qtUKUuqlAMSX5bhw4cvdM4NjmffRgm7ah1yzj0BPAEwePBgl52dnbBz5+TkkMjz1SWVpf5JlXKAylJfpUpZUqUcULdlqe/V++uArmHrXYI0ERERqaL6HvTnAz3NrIeZNQEuAl6r4zyJiIg0SPW6et85V2hm1wFvA5nAZOfckjrOloiISINUr4M+gHNuBjCjrvMhIiLS0NX36n0RERFJEAV9ERGRNKGgLyIikiYU9EVERNKEgr6IiEiaUNAXERFJEwr6IiIiaUJBX0REJE0o6IuIiKQJBX0REZE0oaAvIiKSJup93/siIlJ7nHMUuSIKiwspKCrw8+KCkuUiV0SxKy6Ziooj10vSg3MUFRdR5Ioi5qHzlJcWa3n518t5/9/vlzmuwnkF28LzHl6m8PJUpazFrjjuz3jv3r00/aQpS362hNZNWyfx2yxLQV9EUp5zjoJiH7Qq+8++yBWxbvc6lm1eRmFxYUnQCS2HTwVFBewr2sfeor1+Xrg3Yj1WWnn77i3cS0FxQdwBxjmHw5WUz+FwLlgPlh2Offv20Wh+o4h9Ys2LiotKPqN6a1VdZyCB9lLyfdUmBX2RFBX6zzwUIEJBI5QWHbxKlosLYga1vYV72Vu0lz2Fe0qWw+fLVy1nZtHMMndR4YEqdJcVunOsaB4KPhmWgWGYWcQ8wzIwMwAKigrK5Cd8vq9oX9U/wNxEfht1rKCuMyD1hYK+SJIUFBWwu3A3uwp28f/bu9cYuco6juPf35yZvbQQtIjEcLEgNQ2CViOGaiErUYOK1xgRNWo0EY0oGhXBN14SE43x9sIYr8ALBIkXJMYIRlhBwHJruQkEqghUoBBEStuF3e7fF+c5y9npzuxume2Z2fP7JJNzme2Z598ne/77XOY8uyZ3zdrfObmTXVO7uGnbTWy5eQs7J3eyY3IHOyd3dnwVLcf5Xovtauyp+6v5WDNbGCd9W3aKbsr2pDtXIi3en5iamLflOTmdt3onpiaYmJpg1+Sumf2Zc1O7Zt7bHbsXVuA7l/b/w2yxGmrQarRoNpq0srRNx81Gk4Yas15ZI9vjXEMNmo0mmTKyRjZr22w0O55rqjnnz219cCtHrj5ywdcrbxtqdD03E4eyOeMpzs8Xr9CC/n+vu+461q9fz/7D+y9xTe7JSd+WxHRMz+piLRJsuZXbrQXcqbVbvPfkU0/S2NSYScjP7H5mZr+yVq71tSJhlW/g5Zt/+Xjq6Sn2W7nfTEJpf2WNbCYRDjeHGcqGGM7atu3nF3DcarQ6JpS5EkwxvNE+/FE+d+2117LhdRvmHCIpb8vxNdR/X+waHx9nbGys6mL0xJaRLRx2wGGVfLaTfgd3PXYX25/ezh3/u4Ps31nHCT3F7NLpmGakOcJIc4TR1mi+bY7OHBf7I82RmfHU8uzWua5fbp2Wu353PDO7G7h94k0xuWfWuQge+M8DnPvEuR0nERXHu6d3z3lTaB9bDWJWYp+YmpjZn5zeB4OIE0v/EYOuXHdF/RVj4cUNvtyCK1p15fOtrMVIc4ThbJjh5vDMdiQbmXW89f6tHHXkUfMm1EwZraxFq9Hqum028ttTMR9hrslnxXyFImm2l7GcUBeTyJZTglk1tIoXrnxh1cWwPuGk38FHLvkIG7duzA82V1uWnnqo6gLUR6aM0dYoK1orGG2Ozrm//fHtHHHIEaxorej6Kv6QHMqGur6KRN3e6tsXxsfHGTtxbJ99npktnpN+B0UrwwZTkQBHmiNdE+mKZr5fdLV2a30OZUO0stasXpsiGc/1GsqG5i3ncmpRmln/c2brIGtkVRdh4JW7WGeSbKdWb/PZ9/dIzs3RPZL1phs3ccJrT5iVjIsEnSnbpy1cM7NB4aTfwdoD1+Zj5tt3sur5q+ac0FNM5mk2mgjNmsFdzOxu35+Ympg9UzVNLGq/ZtE1vLK1cibZrRxaOdMyXTn07PlWo7VH+edKelvu2cKxRx8778SiTFnHh3iUx1YlPTu+2zbmO5QNLWni3Ta6jcMPOHzJrm9mthw56Xfw47f9GFhe3a/jO8YZWzdWdTHMzKwi/fe9DDMzM1sSTvpmZmY14aRvZmZWE076ZmZmNeGkb2ZmVhNO+mZmZjXhpG9mZlYTTvpmZmY14aRvZmZWE076ZmZmNeGkb2ZmVhNO+mZmZjWhiKi6DD0l6VHg3z285AuAx3p4vSo5lv6zXOIAx9KvlkssyyUO6H0sL46Igxbyg8su6feapBsj4tVVl6MXHEv/WS5xgGPpV8slluUSB1Qbi7v3zczMasJJ38zMrCac9Of3k6oL0EOOpf8slzjAsfSr5RLLcokDKozFY/pmZmY14Za+mZlZTTjpdyHpZEl3S7pX0tlVl+e5kHSfpNskbZZ0Y9XlWQxJv5C0TdLtpXOrJP1Z0j1p+/wqy7gQHeL4qqStqV42S3pLlWVcKEmHSbpS0j8k3SHpzHR+oOqlSxwDVy+SRiRdL+mWFMvX0vkjJG1M97FfSRqquqzz6RLLeZL+VaqXdVWXdSEkZZI2SfpDOq6sTpz0O5CUAT8E3gwcDZwm6ehqS/WcvT4i1g3g117OA05uO3c28JeIWAP8JR33u/PYMw6A76V6WRcRf9zHZdpbU8DnI+Jo4HjgU+n3Y9DqpVMcMHj18jRwUkS8AlgHnCzpeOBb5LEcBfwX+FiFZVyoTrEAfLFUL5urK+KinAncWTqurE6c9Dt7DXBvRPwzIp4BLgLeUXGZaikirgIebzv9DuD8tH8+8M59Wqi90CGOgRQRD0XEzWl/O/kN7RAGrF66xDFwIvdUOmylVwAnAb9O5/u+TqBrLANH0qHAW4GfpWNRYZ046Xd2CPBA6fhBBvRmkARwuaSbJH286sL0wMER8VDafxg4uMrCPEdnSLo1df/3dXf4XCStBl4JbGSA66UtDhjAekndyJuBbcCfgS3AExExlX5kYO5j7bFERFEv30j18j1JwxUWcaG+D5wFTKfjA6mwTpz062NDRLyKfLjiU5JOrLpAvRL5V1AGshUA/Ah4CXkX5kPAd6otzuJI2g/4DfDZiHiy/N4g1csccQxkvUTE7ohYBxxK3lu5tuIi7bX2WCQdA5xDHtNxwCrgSxUWcV6STgG2RcRNVZel4KTf2VbgsNLxoencQIqIrWm7Dfgd+Q1hkD0i6UUAabut4vLslYh4JN3cpoGfMkD1IqlFnigviIjfptMDVy9zxTHI9QIQEU8AVwLrgedJaqa3Bu4+Vorl5DQcExHxNHAu/V8vrwPeLuk+8iHik4AfUGGdOOl3dgOwJs2yHALeB1xacZn2iqSVkvYv9oE3Abd3/1d971Lgw2n/w8DvKyzLXisSZPIuBqRe0rjkz4E7I+K7pbcGql46xTGI9SLpIEnPS/ujwBvJ5yhcCbwn/Vjf1wl0jOWu0h+UIh8H7+t6iYhzIuLQiFhNnkOuiIgPUGGd+OE8XaSv6XwfyIBfRMQ3Ki7SXpF0JHnrHqAJ/HKQYpF0ITBGvjLVI8BXgEuAi4HDyVdVfG9E9PUkuQ5xjJF3IQdwH3B6aUy8b0naAFwN3MazY5VfJh8PH5h66RLHaQxYvUh6OfmksIy8QXdxRHw9/f5fRN4dvgn4YGop960usVwBHAQI2Ax8ojThr69JGgO+EBGnVFknTvpmZmY14e59MzOzmnDSNzMzqwknfTMzs5pw0jczM6sJJ30zM7OacNI3qylJT6Xtaknv7/G1v9x2fG0vr29me8dJ38xWA4tK+qWniXUyK+lHxGsXWSYzWwJO+mb2TeCEtD7559JCJ9+WdENa2OR0yB8uIulqSZcC/0jnLkmLON1RLOQk6ZvAaLreBelc0augdO3bJd0m6dTStccl/VrSXZIuSE9dM7Memu+vdTNb/s4mPSkMICXv/0XEcWkVs2skXZ5+9lXAMRHxr3T80Yh4PD0q9QZJv4mIsyWdkRZLafdu8ifdvYL8yYQ3SLoqvfdK4GXAf4BryJ9b/rfeh2tWX27pm1m7NwEfSsuabiRfCnRNeu/6UsIH+IykW4C/ky9QtYbuNgAXpsVsHgH+Sr5iWnHtB9MiN5vJhx3MrIfc0jezdgI+HRGXzTqZPzt8R9vxG4D1EbFT0jgw8hw+t/zs8d34/mTWc27pm9l2YP/S8WXAJ9OSs0h6aVqdsd0BwH9Twl8LHF96b7L4922uBk5N8wYOAk4Eru9JFGY2L/8lbWa3ArtTN/155Ot9rwZuTpPpHiVfxrTdn4BPSLoTuJu8i7/wE+BWSTenpUQLvyNf4/0W8hXszoqIh9MfDWa2xLzKnpmZWU24e9/MzKwmnPTNzMxqwknfzMysJpz0zczMasJJ38zMrCac9M3MzGrCSd/MzKwmnPTNzMxq4v8pQ/nL5AdjxgAAAABJRU5ErkJggg==\n",
      "text/plain": [
       "<Figure size 576x432 with 1 Axes>"
      ]
     },
     "metadata": {
      "needs_background": "light"
     },
     "output_type": "display_data"
    }
   ],
   "source": [
    "%matplotlib inline\n",
    "import pandas as pd\n",
    "import numpy as np\n",
    "import os\n",
    "from matplotlib import pyplot as plt\n",
    "import matplotlib as mpl\n",
    "\n",
    "working_directory = os.path.join(os.getcwd(), 'data', 'atlasing')\n",
    "\n",
    "convergence_log = os.path.join(working_directory, 'convergence.txt')\n",
    "df = pd.DataFrame(data=np.loadtxt(convergence_log, delimiter=' '), \n",
    "                  columns=['Log-Likelihood','Attachment','Regularity'])\n",
    "\n",
    "plt.figure(figsize=(8,6))\n",
    "plt.plot(df['Log-Likelihood'], 'r-', label='Log-Likelihood', linewidth=4.0)\n",
    "plt.plot(df['Attachment'], 'g-', label='Attachment', linewidth=4.0)\n",
    "plt.plot(df['Regularity'], 'b-', label='Regularity', linewidth=4.0)\n",
    "plt.xlabel('Iteration')\n",
    "plt.legend(bbox_to_anchor=(.6, .5), loc='best', borderaxespad=0., fancybox=True, framealpha=0.5)\n",
    "plt.grid(which='major')\n",
    "plt.title('Optimization convergence (log-likelihood)')\n",
    "plt.savefig(os.path.join(working_directory, 'convergence.png'))\n"
   ]
  },
  {
   "cell_type": "markdown",
   "metadata": {},
   "source": [
    "## Write convergence log\n",
    "\n",
    "The convergence plot can be saved in 'csv' format to be open in excel for instance for future use"
   ]
  },
  {
   "cell_type": "code",
   "execution_count": 5,
   "metadata": {},
   "outputs": [],
   "source": [
    "df.to_csv(os.path.join(working_directory, 'convergence.csv'))"
   ]
  },
  {
   "cell_type": "markdown",
   "metadata": {},
   "source": [
    "## Output files\n",
    "\n",
    "\n",
    "The data that the atlas formation outputs is gathered in the current folder `data/atlasing`\n",
    "\n",
    "\n",
    "| File                        | Description          | \n",
    "| :-------------              |:---------------------|\n",
    "| Atlas_ControlPoints.txt     | Control points       |\n",
    "| Atlas_Momentas.txt          | Momenta (for each subject) |\n",
    "| Atlas_DataSigma.txt         | unused               |\n",
    "| Atlas_initial_template.vtk  | Final mean shape     |\n",
    "| Atlas_initial_template_to_subject{X} | shootings to each subject |\n",
    "\n"
   ]
  },
  {
   "cell_type": "markdown",
   "metadata": {},
   "source": [
    "## About this notebook\n",
    "\n",
    "written by Nicolas Toussaint\n",
    "\n",
    "Contact: <nicolas.a.toussaint@kcl.ac.uk>"
   ]
  }
 ],
 "metadata": {
  "kernelspec": {
   "display_name": "Python 3",
   "language": "python",
   "name": "python3"
  },
  "language_info": {
   "codemirror_mode": {
    "name": "ipython",
    "version": 3
   },
   "file_extension": ".py",
   "mimetype": "text/x-python",
   "name": "python",
   "nbconvert_exporter": "python",
   "pygments_lexer": "ipython3",
   "version": "3.6.7"
  }
 },
 "nbformat": 4,
 "nbformat_minor": 2
}
